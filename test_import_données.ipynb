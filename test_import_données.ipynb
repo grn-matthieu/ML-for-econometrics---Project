{
 "cells": [
  {
   "cell_type": "code",
   "execution_count": null,
   "id": "cab99774",
   "metadata": {},
   "outputs": [],
   "source": [
    "#Activate the virtual environment\n",
    "#Run in the terminal : venv/Scripts/activate\n",
    "#And then run\n",
    "!pip install ipykernel\n",
    "!python -m ipykernel install --user --name=venv --display-name \"Python (venv)\"\n",
    "\n",
    "#Install the required packages for the project\n",
    "!pip install -r requirements.txt"
   ]
  },
  {
   "cell_type": "code",
   "execution_count": 2,
   "id": "aa18c414-cf1b-4489-9790-88755418cd22",
   "metadata": {},
   "outputs": [
    {
     "data": {
      "text/html": [
       "        <script type=\"text/javascript\">\n",
       "        window.PlotlyConfig = {MathJaxConfig: 'local'};\n",
       "        if (window.MathJax && window.MathJax.Hub && window.MathJax.Hub.Config) {window.MathJax.Hub.Config({SVG: {font: \"STIX-Web\"}});}\n",
       "        </script>\n",
       "        <script type=\"module\">import \"https://cdn.plot.ly/plotly-3.0.1.min\"</script>\n",
       "        "
      ]
     },
     "metadata": {},
     "output_type": "display_data"
    }
   ],
   "source": [
    "import numpy as np\n",
    "import pandas as pd\n",
    "import geopandas as gpd\n",
    "from shapely.geometry import MultiPolygon\n",
    "from tqdm import tqdm\n",
    "import gdown\n",
    "import matplotlib.pyplot as plt\n",
    "from plotly.offline import init_notebook_mode\n",
    "init_notebook_mode(connected= True)\n",
    "import plotly.express as px"
   ]
  },
  {
   "cell_type": "code",
   "execution_count": 3,
   "id": "4682bd16-6f13-4d02-bdf2-cc296885774b",
   "metadata": {},
   "outputs": [],
   "source": [
    "pd.set_option('display.max_columns', None)"
   ]
  },
  {
   "cell_type": "code",
   "execution_count": 4,
   "id": "e684146e-8e75-40c1-b340-78266d6d8f62",
   "metadata": {},
   "outputs": [
    {
     "name": "stderr",
     "output_type": "stream",
     "text": [
      "Downloading...\n",
      "From (original): https://drive.google.com/uc?export=download&id=1U34r_SnEZNpIPXM-_lRDjlin3vbTN_sL\n",
      "From (redirected): https://drive.google.com/uc?export=download&id=1U34r_SnEZNpIPXM-_lRDjlin3vbTN_sL&confirm=t&uuid=96a767a8-cce7-4777-a867-0ac39db333f4\n",
      "To: c:\\Users\\grnma\\OneDrive\\Bureau\\ENSAE\\3A\\S2\\ML for econometrics\\project\\ML-for-econometrics---Project\\FD_SALAAN_2021.csv\n",
      "100%|██████████| 230M/230M [00:26<00:00, 8.77MB/s] \n"
     ]
    },
    {
     "data": {
      "text/plain": [
       "'FD_SALAAN_2021.csv'"
      ]
     },
     "execution_count": 4,
     "metadata": {},
     "output_type": "execute_result"
    }
   ],
   "source": [
    "file_id = \"1U34r_SnEZNpIPXM-_lRDjlin3vbTN_sL\"\n",
    "url = f\"https://drive.google.com/uc?export=download&id={file_id}\"\n",
    "\n",
    "# Download the file\n",
    "gdown.download(url, \"FD_SALAAN_2021.csv\", quiet=False)"
   ]
  },
  {
   "cell_type": "code",
   "execution_count": 5,
   "id": "7dbc52aa-8ee8-4ebc-8f50-ec029df1ad52",
   "metadata": {},
   "outputs": [
    {
     "name": "stderr",
     "output_type": "stream",
     "text": [
      "C:\\Users\\grnma\\AppData\\Local\\Temp\\ipykernel_5188\\3173851230.py:1: DtypeWarning:\n",
      "\n",
      "Columns (0,1,3,24) have mixed types. Specify dtype option on import or set low_memory=False.\n",
      "\n"
     ]
    }
   ],
   "source": [
    "base = pd.read_csv(\"FD_SALAAN_2021.csv\", delimiter=\";\")"
   ]
  },
  {
   "cell_type": "code",
   "execution_count": 6,
   "id": "d11cb5c9-09f7-488d-8a9a-f792f3ed1f6e",
   "metadata": {
    "scrolled": true
   },
   "outputs": [
    {
     "data": {
      "text/plain": [
       "count    2.403775e+06\n",
       "mean     1.418324e+01\n",
       "std      5.424315e+00\n",
       "min      0.000000e+00\n",
       "25%      1.000000e+01\n",
       "50%      1.400000e+01\n",
       "75%      1.900000e+01\n",
       "max      2.300000e+01\n",
       "Name: TRNNETO, dtype: float64"
      ]
     },
     "execution_count": 6,
     "metadata": {},
     "output_type": "execute_result"
    }
   ],
   "source": [
    "base['TRNNETO'].describe()"
   ]
  },
  {
   "cell_type": "markdown",
   "id": "9ea9d361-b241-4a6a-b38a-2d3c024c2ca7",
   "metadata": {},
   "source": [
    "PICO stands for\n",
    " • Population : Who are we interested in? : all French population in 2021 (all employed French population ?)\n",
    " • Intervention : What treatment/intervention do we study? : do we find a specific treatment ? related to sex/geography/PCS? determined by lasso selection ?\n",
    " • Comparison : What are we comparing it to? depends on the treatment\n",
    " •Outcome : What are we interested in? wages "
   ]
  },
  {
   "cell_type": "markdown",
   "id": "16de7118-543e-480f-83f1-e2881b4961bb",
   "metadata": {},
   "source": [
    "### Treatment of the data "
   ]
  },
  {
   "cell_type": "code",
   "execution_count": 7,
   "id": "ca9ac3ea-fb6f-47c4-8a1e-d2653e29df50",
   "metadata": {},
   "outputs": [
    {
     "data": {
      "text/plain": [
       "Index(['A6', 'A17', 'A38', 'CPFD', 'DATDEB', 'DATFIN', 'DEPR', 'DEPT',\n",
       "       'DOMEMPL', 'DOMEMPL_EM', 'DUREE', 'FILT', 'REGR', 'REGT', 'SEXE', 'PCS',\n",
       "       'TYP_EMPLOI', 'CONV_COLL', 'NBHEUR', 'NBHEUR_TOT', 'AGE', 'TRNNETO',\n",
       "       'TRALCHT', 'TREFF', 'CONT_TRAV', 'CS', 'AGE_TR', 'DATDEB_TR',\n",
       "       'DATFIN_TR', 'DUREE_TR', 'POND'],\n",
       "      dtype='object')"
      ]
     },
     "execution_count": 7,
     "metadata": {},
     "output_type": "execute_result"
    }
   ],
   "source": [
    "base.columns"
   ]
  },
  {
   "cell_type": "code",
   "execution_count": 8,
   "id": "3891e029-afec-4a1f-837c-3c0a238450ee",
   "metadata": {},
   "outputs": [
    {
     "data": {
      "text/html": [
       "<div>\n",
       "<style scoped>\n",
       "    .dataframe tbody tr th:only-of-type {\n",
       "        vertical-align: middle;\n",
       "    }\n",
       "\n",
       "    .dataframe tbody tr th {\n",
       "        vertical-align: top;\n",
       "    }\n",
       "\n",
       "    .dataframe thead th {\n",
       "        text-align: right;\n",
       "    }\n",
       "</style>\n",
       "<table border=\"1\" class=\"dataframe\">\n",
       "  <thead>\n",
       "    <tr style=\"text-align: right;\">\n",
       "      <th></th>\n",
       "      <th>DATDEB</th>\n",
       "      <th>DATFIN</th>\n",
       "      <th>DOMEMPL</th>\n",
       "      <th>DOMEMPL_EM</th>\n",
       "      <th>DUREE</th>\n",
       "      <th>FILT</th>\n",
       "      <th>REGR</th>\n",
       "      <th>REGT</th>\n",
       "      <th>SEXE</th>\n",
       "      <th>CONV_COLL</th>\n",
       "      <th>NBHEUR</th>\n",
       "      <th>NBHEUR_TOT</th>\n",
       "      <th>AGE</th>\n",
       "      <th>TRNNETO</th>\n",
       "      <th>TRALCHT</th>\n",
       "      <th>TREFF</th>\n",
       "      <th>CS</th>\n",
       "      <th>AGE_TR</th>\n",
       "      <th>DATDEB_TR</th>\n",
       "      <th>DATFIN_TR</th>\n",
       "      <th>DUREE_TR</th>\n",
       "      <th>POND</th>\n",
       "    </tr>\n",
       "  </thead>\n",
       "  <tbody>\n",
       "    <tr>\n",
       "      <th>count</th>\n",
       "      <td>2.315884e+06</td>\n",
       "      <td>2.315888e+06</td>\n",
       "      <td>2.315882e+06</td>\n",
       "      <td>2.315880e+06</td>\n",
       "      <td>2.315888e+06</td>\n",
       "      <td>2.403775e+06</td>\n",
       "      <td>2.403085e+06</td>\n",
       "      <td>2.403552e+06</td>\n",
       "      <td>2.403775e+06</td>\n",
       "      <td>1.823112e+06</td>\n",
       "      <td>2.315888e+06</td>\n",
       "      <td>2.403775e+06</td>\n",
       "      <td>2.403773e+06</td>\n",
       "      <td>2.403775e+06</td>\n",
       "      <td>2.403775e+06</td>\n",
       "      <td>2.315888e+06</td>\n",
       "      <td>2.403770e+06</td>\n",
       "      <td>2.403773e+06</td>\n",
       "      <td>2.315884e+06</td>\n",
       "      <td>2.315885e+06</td>\n",
       "      <td>2.315888e+06</td>\n",
       "      <td>2403775.0</td>\n",
       "    </tr>\n",
       "    <tr>\n",
       "      <th>mean</th>\n",
       "      <td>3.536017e+01</td>\n",
       "      <td>3.350661e+02</td>\n",
       "      <td>7.281775e+00</td>\n",
       "      <td>7.234558e+00</td>\n",
       "      <td>2.949483e+02</td>\n",
       "      <td>1.036562e+00</td>\n",
       "      <td>4.798204e+01</td>\n",
       "      <td>4.718156e+01</td>\n",
       "      <td>1.487933e+00</td>\n",
       "      <td>1.893209e+03</td>\n",
       "      <td>1.376363e+03</td>\n",
       "      <td>1.439326e+03</td>\n",
       "      <td>4.031458e+01</td>\n",
       "      <td>1.418324e+01</td>\n",
       "      <td>8.685731e+01</td>\n",
       "      <td>3.460505e+00</td>\n",
       "      <td>5.149241e+01</td>\n",
       "      <td>4.301459e+01</td>\n",
       "      <td>2.073556e+00</td>\n",
       "      <td>1.122610e+01</td>\n",
       "      <td>9.947387e+00</td>\n",
       "      <td>12.0</td>\n",
       "    </tr>\n",
       "    <tr>\n",
       "      <th>std</th>\n",
       "      <td>7.530344e+01</td>\n",
       "      <td>5.875425e+01</td>\n",
       "      <td>2.896169e+00</td>\n",
       "      <td>2.952704e+00</td>\n",
       "      <td>1.011707e+02</td>\n",
       "      <td>1.876841e-01</td>\n",
       "      <td>2.965864e+01</td>\n",
       "      <td>2.989181e+01</td>\n",
       "      <td>4.998545e-01</td>\n",
       "      <td>1.665718e+03</td>\n",
       "      <td>5.692307e+02</td>\n",
       "      <td>5.982207e+02</td>\n",
       "      <td>1.307155e+01</td>\n",
       "      <td>5.424315e+00</td>\n",
       "      <td>3.136699e+01</td>\n",
       "      <td>1.989165e+00</td>\n",
       "      <td>1.052402e+01</td>\n",
       "      <td>1.303522e+01</td>\n",
       "      <td>2.401663e+00</td>\n",
       "      <td>1.879045e+00</td>\n",
       "      <td>3.231859e+00</td>\n",
       "      <td>0.0</td>\n",
       "    </tr>\n",
       "    <tr>\n",
       "      <th>min</th>\n",
       "      <td>-3.000000e+01</td>\n",
       "      <td>1.000000e+00</td>\n",
       "      <td>1.000000e+00</td>\n",
       "      <td>1.000000e+00</td>\n",
       "      <td>1.000000e+00</td>\n",
       "      <td>1.000000e+00</td>\n",
       "      <td>1.000000e+00</td>\n",
       "      <td>1.000000e+00</td>\n",
       "      <td>1.000000e+00</td>\n",
       "      <td>2.000000e+00</td>\n",
       "      <td>0.000000e+00</td>\n",
       "      <td>0.000000e+00</td>\n",
       "      <td>0.000000e+00</td>\n",
       "      <td>0.000000e+00</td>\n",
       "      <td>0.000000e+00</td>\n",
       "      <td>0.000000e+00</td>\n",
       "      <td>1.000000e+01</td>\n",
       "      <td>0.000000e+00</td>\n",
       "      <td>-1.200000e+01</td>\n",
       "      <td>1.000000e+00</td>\n",
       "      <td>1.000000e+00</td>\n",
       "      <td>12.0</td>\n",
       "    </tr>\n",
       "    <tr>\n",
       "      <th>25%</th>\n",
       "      <td>1.000000e+00</td>\n",
       "      <td>3.600000e+02</td>\n",
       "      <td>7.000000e+00</td>\n",
       "      <td>7.000000e+00</td>\n",
       "      <td>2.400000e+02</td>\n",
       "      <td>1.000000e+00</td>\n",
       "      <td>2.400000e+01</td>\n",
       "      <td>1.100000e+01</td>\n",
       "      <td>1.000000e+00</td>\n",
       "      <td>9.920000e+02</td>\n",
       "      <td>9.150000e+02</td>\n",
       "      <td>1.020000e+03</td>\n",
       "      <td>2.900000e+01</td>\n",
       "      <td>1.000000e+01</td>\n",
       "      <td>9.900000e+01</td>\n",
       "      <td>1.000000e+00</td>\n",
       "      <td>4.300000e+01</td>\n",
       "      <td>3.100000e+01</td>\n",
       "      <td>1.000000e+00</td>\n",
       "      <td>1.200000e+01</td>\n",
       "      <td>8.000000e+00</td>\n",
       "      <td>12.0</td>\n",
       "    </tr>\n",
       "    <tr>\n",
       "      <th>50%</th>\n",
       "      <td>1.000000e+00</td>\n",
       "      <td>3.600000e+02</td>\n",
       "      <td>9.000000e+00</td>\n",
       "      <td>9.000000e+00</td>\n",
       "      <td>3.600000e+02</td>\n",
       "      <td>1.000000e+00</td>\n",
       "      <td>4.400000e+01</td>\n",
       "      <td>4.400000e+01</td>\n",
       "      <td>1.000000e+00</td>\n",
       "      <td>1.597000e+03</td>\n",
       "      <td>1.644000e+03</td>\n",
       "      <td>1.741000e+03</td>\n",
       "      <td>4.000000e+01</td>\n",
       "      <td>1.400000e+01</td>\n",
       "      <td>9.900000e+01</td>\n",
       "      <td>3.000000e+00</td>\n",
       "      <td>5.400000e+01</td>\n",
       "      <td>4.300000e+01</td>\n",
       "      <td>1.000000e+00</td>\n",
       "      <td>1.200000e+01</td>\n",
       "      <td>1.200000e+01</td>\n",
       "      <td>12.0</td>\n",
       "    </tr>\n",
       "    <tr>\n",
       "      <th>75%</th>\n",
       "      <td>1.000000e+00</td>\n",
       "      <td>3.600000e+02</td>\n",
       "      <td>9.000000e+00</td>\n",
       "      <td>9.000000e+00</td>\n",
       "      <td>3.600000e+02</td>\n",
       "      <td>1.000000e+00</td>\n",
       "      <td>7.600000e+01</td>\n",
       "      <td>7.600000e+01</td>\n",
       "      <td>2.000000e+00</td>\n",
       "      <td>2.336000e+03</td>\n",
       "      <td>1.820000e+03</td>\n",
       "      <td>1.820000e+03</td>\n",
       "      <td>5.100000e+01</td>\n",
       "      <td>1.900000e+01</td>\n",
       "      <td>9.900000e+01</td>\n",
       "      <td>6.000000e+00</td>\n",
       "      <td>6.200000e+01</td>\n",
       "      <td>5.500000e+01</td>\n",
       "      <td>1.000000e+00</td>\n",
       "      <td>1.200000e+01</td>\n",
       "      <td>1.200000e+01</td>\n",
       "      <td>12.0</td>\n",
       "    </tr>\n",
       "    <tr>\n",
       "      <th>max</th>\n",
       "      <td>3.600000e+02</td>\n",
       "      <td>4.950000e+02</td>\n",
       "      <td>9.000000e+00</td>\n",
       "      <td>9.000000e+00</td>\n",
       "      <td>3.600000e+02</td>\n",
       "      <td>2.000000e+00</td>\n",
       "      <td>9.900000e+01</td>\n",
       "      <td>9.900000e+01</td>\n",
       "      <td>2.000000e+00</td>\n",
       "      <td>9.999000e+03</td>\n",
       "      <td>2.500000e+03</td>\n",
       "      <td>3.000000e+03</td>\n",
       "      <td>1.210000e+02</td>\n",
       "      <td>2.300000e+01</td>\n",
       "      <td>9.900000e+01</td>\n",
       "      <td>6.000000e+00</td>\n",
       "      <td>6.900000e+01</td>\n",
       "      <td>7.200000e+01</td>\n",
       "      <td>1.200000e+01</td>\n",
       "      <td>1.200000e+01</td>\n",
       "      <td>1.200000e+01</td>\n",
       "      <td>12.0</td>\n",
       "    </tr>\n",
       "  </tbody>\n",
       "</table>\n",
       "</div>"
      ],
      "text/plain": [
       "             DATDEB        DATFIN       DOMEMPL    DOMEMPL_EM         DUREE  \\\n",
       "count  2.315884e+06  2.315888e+06  2.315882e+06  2.315880e+06  2.315888e+06   \n",
       "mean   3.536017e+01  3.350661e+02  7.281775e+00  7.234558e+00  2.949483e+02   \n",
       "std    7.530344e+01  5.875425e+01  2.896169e+00  2.952704e+00  1.011707e+02   \n",
       "min   -3.000000e+01  1.000000e+00  1.000000e+00  1.000000e+00  1.000000e+00   \n",
       "25%    1.000000e+00  3.600000e+02  7.000000e+00  7.000000e+00  2.400000e+02   \n",
       "50%    1.000000e+00  3.600000e+02  9.000000e+00  9.000000e+00  3.600000e+02   \n",
       "75%    1.000000e+00  3.600000e+02  9.000000e+00  9.000000e+00  3.600000e+02   \n",
       "max    3.600000e+02  4.950000e+02  9.000000e+00  9.000000e+00  3.600000e+02   \n",
       "\n",
       "               FILT          REGR          REGT          SEXE     CONV_COLL  \\\n",
       "count  2.403775e+06  2.403085e+06  2.403552e+06  2.403775e+06  1.823112e+06   \n",
       "mean   1.036562e+00  4.798204e+01  4.718156e+01  1.487933e+00  1.893209e+03   \n",
       "std    1.876841e-01  2.965864e+01  2.989181e+01  4.998545e-01  1.665718e+03   \n",
       "min    1.000000e+00  1.000000e+00  1.000000e+00  1.000000e+00  2.000000e+00   \n",
       "25%    1.000000e+00  2.400000e+01  1.100000e+01  1.000000e+00  9.920000e+02   \n",
       "50%    1.000000e+00  4.400000e+01  4.400000e+01  1.000000e+00  1.597000e+03   \n",
       "75%    1.000000e+00  7.600000e+01  7.600000e+01  2.000000e+00  2.336000e+03   \n",
       "max    2.000000e+00  9.900000e+01  9.900000e+01  2.000000e+00  9.999000e+03   \n",
       "\n",
       "             NBHEUR    NBHEUR_TOT           AGE       TRNNETO       TRALCHT  \\\n",
       "count  2.315888e+06  2.403775e+06  2.403773e+06  2.403775e+06  2.403775e+06   \n",
       "mean   1.376363e+03  1.439326e+03  4.031458e+01  1.418324e+01  8.685731e+01   \n",
       "std    5.692307e+02  5.982207e+02  1.307155e+01  5.424315e+00  3.136699e+01   \n",
       "min    0.000000e+00  0.000000e+00  0.000000e+00  0.000000e+00  0.000000e+00   \n",
       "25%    9.150000e+02  1.020000e+03  2.900000e+01  1.000000e+01  9.900000e+01   \n",
       "50%    1.644000e+03  1.741000e+03  4.000000e+01  1.400000e+01  9.900000e+01   \n",
       "75%    1.820000e+03  1.820000e+03  5.100000e+01  1.900000e+01  9.900000e+01   \n",
       "max    2.500000e+03  3.000000e+03  1.210000e+02  2.300000e+01  9.900000e+01   \n",
       "\n",
       "              TREFF            CS        AGE_TR     DATDEB_TR     DATFIN_TR  \\\n",
       "count  2.315888e+06  2.403770e+06  2.403773e+06  2.315884e+06  2.315885e+06   \n",
       "mean   3.460505e+00  5.149241e+01  4.301459e+01  2.073556e+00  1.122610e+01   \n",
       "std    1.989165e+00  1.052402e+01  1.303522e+01  2.401663e+00  1.879045e+00   \n",
       "min    0.000000e+00  1.000000e+01  0.000000e+00 -1.200000e+01  1.000000e+00   \n",
       "25%    1.000000e+00  4.300000e+01  3.100000e+01  1.000000e+00  1.200000e+01   \n",
       "50%    3.000000e+00  5.400000e+01  4.300000e+01  1.000000e+00  1.200000e+01   \n",
       "75%    6.000000e+00  6.200000e+01  5.500000e+01  1.000000e+00  1.200000e+01   \n",
       "max    6.000000e+00  6.900000e+01  7.200000e+01  1.200000e+01  1.200000e+01   \n",
       "\n",
       "           DUREE_TR       POND  \n",
       "count  2.315888e+06  2403775.0  \n",
       "mean   9.947387e+00       12.0  \n",
       "std    3.231859e+00        0.0  \n",
       "min    1.000000e+00       12.0  \n",
       "25%    8.000000e+00       12.0  \n",
       "50%    1.200000e+01       12.0  \n",
       "75%    1.200000e+01       12.0  \n",
       "max    1.200000e+01       12.0  "
      ]
     },
     "execution_count": 8,
     "metadata": {},
     "output_type": "execute_result"
    }
   ],
   "source": [
    "base.describe()"
   ]
  },
  {
   "cell_type": "code",
   "execution_count": 9,
   "id": "8c396743-816c-4b8b-91e7-f80d7075263e",
   "metadata": {},
   "outputs": [],
   "source": [
    "numerical_columns = [\n",
    "    'DATDEB', 'DATFIN', #date début et fin de rémunération par rapport au 01/01\n",
    "     'AGE', #age en années\n",
    "     'POND', #pondération 1/12e\n",
    "    'DUREE', #durée de paie en jours\n",
    "      'NBHEUR', 'NBHEUR_TOT', #nombre d'heures salariées total (quelle diff?)\n",
    "    'WAGE', #transformation of TRNNETO\n",
    "    'UNEMP' #transformation of TRALCHT\n",
    "]\n",
    "categorical_columns = [\n",
    "    'A6', 'A17', 'A38' #activité en nomenclature agrégrée\n",
    "    'CPFD', #temps complet ou partiel\n",
    "    'DEPR', 'DEPT', #département résidence et travail\n",
    "    'DOMEMPL', 'DOMEMPL_EM', #domaine de l'emploi et l'établissement d'affectation/employeur\n",
    "    \n",
    "    'FILT', #indic poste annexe 2 ou non-annexe 1 (seuils rémunération volume)\n",
    "    'REGR', 'REGT', #région de résidence et de travail\n",
    "    'SEXE', #1 homme 2 femme\n",
    "    'PCS', #PCS-ESE\n",
    "    'TYP_EMPLOI', #ordinaire, apprenti, autre\n",
    "    'CONV_COLL', #convention collective\n",
    "  \n",
    "    'TRNNETO', #rémunération nette globale en tranches -> à passer en numérique ?\n",
    "    'TRALCHT', #total des indémnités de chômage, en tranches -> passage en numérique ?\n",
    "    'TREFF', #tranche d'effectif : de 0 à 250+ postes\n",
    "    'CONT_TRAV', #contrat de travail : APP apprentissage, TOA occasionnel ou à l'acte, TTP intérim, AUTre\n",
    "    'CS', #CSP mais code plus simple \n",
    "    'AGE_TR', #age en tranches quadriennales\n",
    "    'DATDEB_TR',\n",
    "       'DATFIN_TR', #dates début et fin rémunération en tranches\n",
    "    'DUREE_TR', #durée de paie exprimée en jours en tranches mensuelles\n",
    "]"
   ]
  },
  {
   "cell_type": "markdown",
   "id": "407cba21-1777-4333-b828-4b49fc3a2076",
   "metadata": {},
   "source": [
    "### Changing the names of some categorical variables"
   ]
  },
  {
   "cell_type": "code",
   "execution_count": 10,
   "id": "6e754862-12ff-4f8e-9d75-cfee4f63c4ff",
   "metadata": {},
   "outputs": [],
   "source": [
    "#domaine d'emploi\n",
    "\n",
    "code_to_name = {\n",
    "    1 : \"Fonction Publique d'Etat\",\n",
    "    2 : 'Fonction Publique Territoriale',\n",
    "    3 : 'Fonction Publique Hospitalière',\n",
    "    4 : 'Autres Organismes Publics Administratifs',\n",
    "    5 : \"Personnes morales de droit public soumises au droit commercial\",\n",
    "6 : \"Entreprises individuelles\",\n",
    "7 : \"Particuliers Employeurs\", \n",
    "8 : \"Organismes privés spécialisés et groupements de droit privé\",\n",
    "9 : \"Autres sociétés privées\"\n",
    "}\n",
    "\n",
    "base['DOMEMPL_EM_N'] = base['DOMEMPL_EM'].replace(code_to_name)\n",
    "\n",
    "base['DOMEMPL_N'] = base['DOMEMPL'].replace(code_to_name)"
   ]
  },
  {
   "cell_type": "code",
   "execution_count": 11,
   "id": "b8cc6ca4-7be2-4039-bef4-b94a3be36102",
   "metadata": {},
   "outputs": [],
   "source": [
    "code_to_name_reg = {\n",
    "    1 : \"Guadeloupe\",\n",
    "2 :\"Martinique\",\n",
    "3 : \"Guyane\",\n",
    "4 : \"Réunion\", \n",
    "11 : \"Île-de-France\",\n",
    "24 : \"Centre-Val de Loire\",\n",
    "27 : \"Bourgogne – Franche-Comté\",\n",
    "28 : \"Normandie\",\n",
    "32 : \"Nord – Pas-de-Calais – Picardie\",\n",
    "44 : \"Alsace – Champagne-Ardenne - Lorraine\",\n",
    "52 : \"Pays de la Loire\",\n",
    "53 : \"Bretagne\",\n",
    "75 : \"Aquitaine – Limousin – Poitou-Charentes\",\n",
    "76 : \"Languedoc-Roussillon – Midi-Pyrénées\",\n",
    "84 : \"Auvergne – Rhône-Alpes\",\n",
    "93 : \"Provence-Alpes-Côte d'Azur\",\n",
    "94 : \"Corse\",\n",
    "99 : \"Étranger et TOM\"}\n",
    "\n",
    "base['REGR_N'] = base['REGR'].replace(code_to_name_reg)\n",
    "base['REGT_N'] = base['REGT'].replace(code_to_name_reg)"
   ]
  },
  {
   "cell_type": "code",
   "execution_count": 12,
   "id": "2459d284-16a1-4324-9593-231823d4c2d7",
   "metadata": {},
   "outputs": [],
   "source": [
    "code_to_name_CS = {\n",
    "   10 : \"Agriculteurs (salariés de leur exploitation)\",\n",
    "21 : \"Artisans (salariés de leur entreprise)\",\n",
    "22 : \"Commerçants et assimilés (salariés de leur entreprise)\",\n",
    "23 : \"Chefs d'entreprise de 10 salariés ou plus (salariés de leur entreprise)\",\n",
    "31 : \"Professions libérales (exercées sous statut de salarié)\",\n",
    "33 : \"Cadres de la fonction publique\",\n",
    "34 : \"Professeurs, professions scientifiques\",\n",
    "35 : \"Professions de l'information, des arts et des spectacles\",\n",
    "37 : \"Cadres administratifs et commerciaux d'entreprises\",\n",
    "38 : \"Ingénieurs et cadres techniques d'entreprises\",\n",
    "42 : \"Professeurs des écoles, instituteurs et professions assimilées\",\n",
    "43 : \"Professions intermédiaires de la santé et du travail social\",\n",
    "44 : \"Clergé, religieux\",\n",
    "45 : \"Professions intermédiaires administratives de la fonction publique\",\n",
    "46 : \"Professions intermédiaires administratives et commerciales des entreprises\",\n",
    "47 : \"Techniciens (sauf techniciens tertiaires)\",\n",
    "48 : \"Contremaîtres, agents de maîtrise (maîtrise administrative exclue)\",\n",
    "52 : \"Employés civils et agents de service de la fonction publique\",\n",
    "53 : \"Agents de surveillance\",\n",
    "54 : \"Employés administratifs d'entreprise\",\n",
    "55 : \"Employés de commerce\",\n",
    "56 : \"Personnels des services directs aux particuliers\",\n",
    "62 : \"Ouvriers qualifiés de type industriel\",\n",
    "63 : \"Ouvriers qualifiés de type artisanal\",\n",
    "64 : \"Chauffeurs\",\n",
    "65 : \"Ouvriers qualifiés de la manutention, du magasinage et du transport\",\n",
    "67 : \"Ouvriers non qualifiés de type industriel\",\n",
    "68 : \"Ouvriers non qualifiés de type artisanal\",\n",
    "69 : \"Ouvriers agricoles et assimilés\"}\n",
    "\n",
    "base['CS_N'] = base['CS'].replace(code_to_name_CS)"
   ]
  },
  {
   "cell_type": "code",
   "execution_count": 13,
   "id": "315a819b-c803-4460-b3ed-3529d059868f",
   "metadata": {},
   "outputs": [
    {
     "data": {
      "text/plain": [
       "count     2403770\n",
       "unique        429\n",
       "top          621F\n",
       "freq        63194\n",
       "Name: PCS, dtype: object"
      ]
     },
     "execution_count": 13,
     "metadata": {},
     "output_type": "execute_result"
    }
   ],
   "source": [
    "base['PCS'].describe()"
   ]
  },
  {
   "cell_type": "code",
   "execution_count": 14,
   "id": "1f631147-afe8-4f08-9753-39c632ed0da4",
   "metadata": {},
   "outputs": [
    {
     "data": {
      "text/plain": [
       "SEXE\n",
       "1    1230895\n",
       "2    1172880\n",
       "Name: count, dtype: int64"
      ]
     },
     "execution_count": 14,
     "metadata": {},
     "output_type": "execute_result"
    }
   ],
   "source": [
    "base['SEXE'].value_counts()"
   ]
  },
  {
   "cell_type": "markdown",
   "id": "3c2efd40-0ece-44ad-892d-c2e7339487cb",
   "metadata": {},
   "source": [
    "# TODO: change dept in int before replacing"
   ]
  },
  {
   "cell_type": "code",
   "execution_count": 15,
   "id": "603832e9-5114-46f9-8ad6-6b1f5146533a",
   "metadata": {},
   "outputs": [
    {
     "data": {
      "text/plain": [
       "0          49\n",
       "1          35\n",
       "2          59\n",
       "3          62\n",
       "4          66\n",
       "           ..\n",
       "2403770    36\n",
       "2403771    36\n",
       "2403772    36\n",
       "2403773    36\n",
       "2403774    36\n",
       "Name: DEPT, Length: 2403775, dtype: string"
      ]
     },
     "execution_count": 15,
     "metadata": {},
     "output_type": "execute_result"
    }
   ],
   "source": [
    "base['DEPR'].convert_dtypes()\n",
    "base['DEPT'].convert_dtypes()"
   ]
  },
  {
   "cell_type": "code",
   "execution_count": 16,
   "id": "7757529a-d060-4925-88f4-1ebfbd86d17d",
   "metadata": {},
   "outputs": [],
   "source": [
    "code_to_name_dep = {\n",
    "    \"01\" : \"Ain\",\n",
    "\"02\" : \"Aisne\",\n",
    "\"03\" : \"Allier\",\n",
    "\"04\" : \"Alpes-de-Haute-Provence\",\n",
    "\"05\" : \"Hautes-Alpes\",\n",
    "\"06\" : \"Alpes-Maritimes\",\n",
    "\"07\" : \"Ardèche\",\n",
    "\"08\" : \"Ardennes\",\n",
    "\"09\" : \"Ariège\",\n",
    "\"10\" : \"Aube\",\n",
    "\"11\" : \"Aude\",\n",
    "\"12\" : \"Aveyron\",\n",
    "\"13\" : \"Bouches-du-Rhône\",\n",
    "\"14\" : \"Calvados\",\n",
    "\"15\" : \"Cantal\",\n",
    "\"16\" : \"Charente\",\n",
    "\"17\" : \"Charente-Maritime\",\n",
    "\"18\" : \"Cher\",\n",
    "\"19\" : \"Corrèze\",\n",
    "\"2A\" : \"Corse-du-Sud\",\n",
    "\"2B\" : \"Haute-Corse\",\n",
    "\"21\" : \"Côte-d'Or\",\n",
    "\"22\" : \"Côtes-d'Armor\",\n",
    "\"23\" : \"Creuse\",\n",
    "\"24\" : \"Dordogne\",\n",
    "\"25\" : \"Doubs\",\n",
    "\"26\" : \"Drôme\",\n",
    "\"27\" : \"Eure\",\n",
    "\"28\" : \"Eure-et-Loir\",\n",
    "\"29\" : \"Finistère\",\n",
    "\"30\" : \"Gard\",\n",
    "\"31\" : \"Haute-Garonne\",\n",
    "\"32\" :\"Gers\",\n",
    "\"33\" : \"Gironde\",\n",
    "\"34\" : \"Hérault\",\n",
    "\"35\" : \"Ille-et-Vilaine\",\n",
    "\"36\" : \"Indre\",\n",
    "\"37\" : \"Indre-et-Loire\",\n",
    "\"38\" : \"Isère\",\n",
    "\"39\" : \"Jura\",\n",
    "\"40\" : \"Landes\",\n",
    "\"41\" : \"Loir-et-Cher\",\n",
    "\"42\" : \"Loire\",\n",
    "\"43\" : \"Haute-Loire\",\n",
    "\"44\" : \"Loire-Atlantique\",\n",
    "\"45\" : \"Loiret\",\n",
    "\"46\" : \"Lot\",\n",
    "\"47\" : \"Lot-et-Garonne\",\n",
    "\"48\" : \"Lozère\",\n",
    "\"49\" : \"Maine-et-Loire\",\n",
    "\"50\" : \"Manche\",\n",
    "\"51\" : \"Marne\",\n",
    "\"52\" : \"Haute-Marne\",\n",
    "\"53\" : \"Mayenne\",\n",
    "\"54\" : \"Meurthe-et-Moselle\",\n",
    "\"55\" : \"Meuse\",\n",
    "\"56\" : \"Morbihan\",\n",
    "\"57\" : \"Moselle\",\n",
    "\"58\" : \"Nièvre\",\n",
    "\"59\" : \"Nord\",\n",
    "\"60\" : \"Oise\",\n",
    "\"61\" : \"Orne\",\n",
    "\"62\" : \"Pas-de-Calais\",\n",
    "\"63\" : \"Puy-de-Dôme\",\n",
    "\"64\" : \"Pyrénées-Atlantiques\",\n",
    "\"65\" : \"Hautes-Pyrénées\",\n",
    "\"66\" : \"Pyrénées-Orientales\",\n",
    "\"67\" : \"Bas-Rhin\",\n",
    "\"68\" : \"Haut-Rhin\",\n",
    "\"69\" : \"Rhône\",\n",
    "\"70\" : \"Haute-Saône\",\n",
    "\"71\" : \"Saône-et-Loire\",\n",
    "\"72\" : \"Sarthe\",\n",
    "\"73\" : \"Savoie\",\n",
    "\"74\" : \"Haute-Savoie\",\n",
    "\"75\" : \"Paris\",\n",
    "\"76\" : \"Seine-Maritime\",\n",
    "\"77\" : \"Seine-et-Marne\",\n",
    "\"78\" : \"Yvelines\",\n",
    "\"79\" : \"Deux-Sèvres\",\n",
    "\"80\" : \"Somme\",\n",
    "\"81\" : \"Tarn\",\n",
    "\"82\" : \"Tarn-et-Garonne\",\n",
    "\"83\" : \"Var\",\n",
    "\"84\" : \"Vaucluse\",\n",
    "\"85\" : \"Vendée\",\n",
    "\"86\" : \"Vienne\",\n",
    "\"87\" : \"Haute-Vienne\",\n",
    "\"88\" : \"Vosges\",\n",
    "\"89\" : \"Yonne\",\n",
    "\"90\" : \"Territoire de Belfort\",\n",
    "\"91\" : \"Essonne\",\n",
    "\"92\" : \"Hauts-de-Seine\",\n",
    "\"93\" : \"Seine-Saint-Denis\",\n",
    "\"94\" : \"Val-de-Marne\",\n",
    "\"95\" : \"Val-d'Oise\",\n",
    "\"971\" : \"Guadeloupe\",\n",
    "\"972\" : \"Martinique\",\n",
    "\"973\" : \"Guyane\",\n",
    "\"974\" : \"La Réunion\",\n",
    "\"99\" : \"Etranger et TOM\"}\n",
    "\n",
    "base['DEPR_N'] = base['DEPR'].replace(code_to_name_dep)\n",
    "base['DEPT_N'] = base['DEPT'].replace(code_to_name_dep)"
   ]
  },
  {
   "cell_type": "code",
   "execution_count": 17,
   "id": "73a51638-7704-47f5-978c-fcc0ff43c11b",
   "metadata": {
    "scrolled": true
   },
   "outputs": [
    {
     "data": {
      "text/plain": [
       "DEPR_N\n",
       "Paris                    97189\n",
       "Nord                     87162\n",
       "Bouches-du-Rhône         75234\n",
       "Rhône                    74999\n",
       "Hauts-de-Seine           68924\n",
       "                         ...  \n",
       "Ariège                    4607\n",
       "Cantal                    4542\n",
       "Territoire de Belfort     4502\n",
       "Creuse                    3093\n",
       "Lozère                    2307\n",
       "Name: count, Length: 101, dtype: int64"
      ]
     },
     "execution_count": 17,
     "metadata": {},
     "output_type": "execute_result"
    }
   ],
   "source": [
    "base['DEPR_N'].value_counts()"
   ]
  },
  {
   "cell_type": "code",
   "execution_count": 18,
   "id": "cf9edcc9-177c-4fc7-a1a3-55fcbad8d58a",
   "metadata": {},
   "outputs": [],
   "source": [
    "#pd.set_option('display.max_rows', None)"
   ]
  },
  {
   "cell_type": "code",
   "execution_count": 19,
   "id": "3f6da430-d55c-4bc8-bbb2-3c958487e520",
   "metadata": {
    "scrolled": true
   },
   "outputs": [
    {
     "data": {
      "text/plain": [
       "A6               object\n",
       "A17              object\n",
       "A38              object\n",
       "CPFD             object\n",
       "DATDEB          float64\n",
       "DATFIN          float64\n",
       "DEPR             object\n",
       "DEPT             object\n",
       "DOMEMPL         float64\n",
       "DOMEMPL_EM      float64\n",
       "DUREE           float64\n",
       "FILT              int64\n",
       "REGR            float64\n",
       "REGT            float64\n",
       "SEXE              int64\n",
       "PCS              object\n",
       "TYP_EMPLOI       object\n",
       "CONV_COLL       float64\n",
       "NBHEUR          float64\n",
       "NBHEUR_TOT        int64\n",
       "AGE             float64\n",
       "TRNNETO           int64\n",
       "TRALCHT           int64\n",
       "TREFF           float64\n",
       "CONT_TRAV        object\n",
       "CS              float64\n",
       "AGE_TR          float64\n",
       "DATDEB_TR       float64\n",
       "DATFIN_TR       float64\n",
       "DUREE_TR        float64\n",
       "POND              int64\n",
       "DOMEMPL_EM_N     object\n",
       "DOMEMPL_N        object\n",
       "REGR_N           object\n",
       "REGT_N           object\n",
       "CS_N             object\n",
       "DEPR_N           object\n",
       "DEPT_N           object\n",
       "dtype: object"
      ]
     },
     "execution_count": 19,
     "metadata": {},
     "output_type": "execute_result"
    }
   ],
   "source": [
    "base.dtypes"
   ]
  },
  {
   "cell_type": "code",
   "execution_count": 20,
   "id": "76af95a6-5f6c-481e-853d-bebe4706d179",
   "metadata": {},
   "outputs": [],
   "source": [
    "code_to_int_wage = {00 : 0 ,\n",
    "1 : 200 ,\n",
    "2 : 500 ,\n",
    "3 : 1000 ,\n",
    "4 : 1500 ,\n",
    "5 : 2000 ,\n",
    "6 : 3000 ,\n",
    "7 : 4000 ,\n",
    "8 : 6000 ,\n",
    "9 : 8000 ,\n",
    "10 : 10000,\n",
    "11 : 12000,\n",
    "12 : 14000,\n",
    "13 : 16000,\n",
    "14 : 18000,\n",
    "15 : 20000,\n",
    "16 : 22000,\n",
    "17 : 24000,\n",
    "18 : 26000,\n",
    "19 : 28000,\n",
    "20 : 30000,\n",
    "21 : 35000,\n",
    "22 : 40000,\n",
    "23 : 50000, \n",
    "99: pd.NA}\n",
    "\n",
    "base['WAGE'] = base['TRNNETO'].replace(code_to_int_wage)\n",
    "base['UNEMP'] = base['TRALCHT'].replace(code_to_int_wage)"
   ]
  },
  {
   "cell_type": "code",
   "execution_count": 21,
   "id": "e6fd66a0-fdfb-4b95-abbb-263fcbdd24b4",
   "metadata": {},
   "outputs": [],
   "source": [
    "code_to_nomen38 = {\"AZ\" : \"Agriculture, sylviculture et pêche\",\n",
    "\"BZ\" : \"Industries extractives\",\n",
    "\"CA\" : \"Fabrication de denrées alimentaires, de boissons et de produits à base de tabac\",\n",
    "\"CB\" : \"Fabrication de textiles, industries de l'habillement, industrie du cuir et de la chaussure\",\n",
    "\"CC\" : \"Travail du bois, industries du papier et imprimerie\",\n",
    "\"CD\" : \"Cokéfaction et raffinage\",\n",
    "\"CE\" : \"Industrie chimique\",\n",
    "\"CF\" : \"Industrie pharmaceutique\",\n",
    "\"CG\" : \"Fabrication de produits en caoutchouc et en plastique ainsi que d'autres produits minéraux non métalliques\",\n",
    "\"CH\" : \"Métallurgie et fabrication de produits métalliques à l'exception des machines et des équipements\",\n",
    "\"CI\" : \"Fabrication de produits informatiques, électroniques et optiques\",\n",
    "\"CJ\" : \"Fabrication d'équipements électriques\",\n",
    "\"CK\" : \"Fabrication de machines et équipements n.c.a.\",\n",
    "\"CL\" : \"Fabrication de matériels de transport\",\n",
    "\"CM\" : \"Autres industries manufacturières, réparation et installation de machines et d'équipements\",\n",
    "\"DZ\" : \"Production et distribution d'électricité, de gaz, de vapeur et d'air conditionné\",\n",
    "\"EZ\" : \"Production et distribution d'eau, assainissement, gestion des déchets et dépollution\",\n",
    "\"FZ\" : \"Construction\",\n",
    "\"GZ\" : \"Commerce, réparation d'automobiles et de motocycles\",\n",
    "\"HZ\" : \"Transports et entreposage\",\n",
    "\"IZ\" : \"Hébergement et restauration\",\n",
    "\"JA\" : \"Edition, audiovisuel et diffusion\",\n",
    "\"JB\" : \"Télécommunications\",\n",
    "\"JC\" : \"Activités informatiques et services d'information\",\n",
    "\"KZ\" : \"Activités financières et d'assurance\",\n",
    "\"LZ\" : \"Activités immobilières\",\n",
    "\"MA\" : \"Activités juridiques, comptables, de gestion, d'architecture, d'ingénierie, de contrôle et d'analyses techniques\",\n",
    "\"MB\" : \"Recherche-développement scientifique\",\n",
    "\"MC\" : \"Autres activités spécialisées, scientifiques et techniques\",\n",
    "\"NZ\" : \"Activités de services administratifs et de soutien\",\n",
    "\"OZ\" : \"Administration publique\",\n",
    "\"PZ\" : \"Enseignement\",\n",
    "\"QA\" : \"Activités pour la santé humaine\",\n",
    "\"QB\" : \"Hébergement médico-social et social, action sociale sans hébergement\",\n",
    "\"RZ\" : \"Arts, spectacles et activités récréatives\",\n",
    "\"SZ\" : \"Autres activités de services\",\n",
    "\"TZ\" : \"Activités des ménages en tant qu'employeurs, activités indifférenciées des ménages en tant que producteurs de biens et services pour usage propre\"\n",
    "}\n",
    "\n",
    "base['A38_N'] = base['A38'].replace(code_to_nomen38)"
   ]
  },
  {
   "cell_type": "markdown",
   "id": "57712f25-8855-45b4-86a5-26d58e573a3f",
   "metadata": {},
   "source": [
    "### exporting the dataframe"
   ]
  },
  {
   "cell_type": "code",
   "execution_count": 23,
   "id": "3ce76db6-6bdd-4935-b229-a1fecdb93c56",
   "metadata": {},
   "outputs": [],
   "source": [
    "base.to_csv('INSEE_DATA_TREATED.csv')"
   ]
  }
 ],
 "metadata": {
  "kernelspec": {
   "display_name": "venv",
   "language": "python",
   "name": "python3"
  },
  "language_info": {
   "codemirror_mode": {
    "name": "ipython",
    "version": 3
   },
   "file_extension": ".py",
   "mimetype": "text/x-python",
   "name": "python",
   "nbconvert_exporter": "python",
   "pygments_lexer": "ipython3",
   "version": "3.13.2"
  }
 },
 "nbformat": 4,
 "nbformat_minor": 5
}
