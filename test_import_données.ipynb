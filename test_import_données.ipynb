{
 "cells": [
  {
   "cell_type": "code",
   "execution_count": null,
   "id": "aa18c414-cf1b-4489-9790-88755418cd22",
   "metadata": {},
   "outputs": [],
   "source": [
    "import numpy as np\n",
    "import pandas as pd\n",
    "import geopandas as gpd\n",
    "from shapely.geometry import MultiPolygon\n",
    "from tqdm import tqdm\n",
    "import gdown"
   ]
  },
  {
   "cell_type": "code",
   "execution_count": null,
   "id": "4682bd16-6f13-4d02-bdf2-cc296885774b",
   "metadata": {},
   "outputs": [],
   "source": [
    "pd.set_option('display.max_columns', None)"
   ]
  },
  {
   "cell_type": "code",
   "execution_count": null,
   "id": "e684146e-8e75-40c1-b340-78266d6d8f62",
   "metadata": {},
   "outputs": [],
   "source": [
    "file_id = \"1U34r_SnEZNpIPXM-_lRDjlin3vbTN_sL\"\n",
    "url = f\"https://drive.google.com/uc?export=download&id={file_id}\"\n",
    "\n",
    "# Download the file\n",
    "gdown.download(url, \"FD_SALAAN_2021.csv\", quiet=False)"
   ]
  },
  {
   "cell_type": "code",
   "execution_count": null,
   "id": "7dbc52aa-8ee8-4ebc-8f50-ec029df1ad52",
   "metadata": {},
   "outputs": [],
   "source": [
    "base = pd.read_csv(\"FD_SALAAN_2021.csv\", delimiter=\";\")"
   ]
  },
  {
   "cell_type": "code",
   "execution_count": null,
   "id": "d11cb5c9-09f7-488d-8a9a-f792f3ed1f6e",
   "metadata": {},
   "outputs": [],
   "source": [
    "base.head()"
   ]
  }
 ],
 "metadata": {
  "kernelspec": {
   "display_name": "Python 3 (ipykernel)",
   "language": "python",
   "name": "python3"
  },
  "language_info": {
   "codemirror_mode": {
    "name": "ipython",
    "version": 3
   },
   "file_extension": ".py",
   "mimetype": "text/x-python",
   "name": "python",
   "nbconvert_exporter": "python",
   "pygments_lexer": "ipython3",
   "version": "3.12.9"
  }
 },
 "nbformat": 4,
 "nbformat_minor": 5
}
