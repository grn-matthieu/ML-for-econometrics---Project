{
 "cells": [
  {
   "cell_type": "code",
   "execution_count": null,
   "id": "aa18c414-cf1b-4489-9790-88755418cd22",
   "metadata": {},
   "outputs": [],
   "source": [
    "import numpy as np\n",
    "import pandas as pd\n",
    "import geopandas as gpd\n",
    "from shapely.geometry import MultiPolygon\n",
    "from tqdm import tqdm\n",
    "import gdown\n",
    "import matplotlib.pyplot as plt\n",
    "from plotly.offline import init_notebook_mode\n",
    "init_notebook_mode(connected= True)\n",
    "import plotly.express as px"
   ]
  },
  {
   "cell_type": "code",
   "execution_count": null,
   "id": "4682bd16-6f13-4d02-bdf2-cc296885774b",
   "metadata": {},
   "outputs": [],
   "source": [
    "pd.set_option('display.max_columns', None)"
   ]
  },
  {
   "cell_type": "code",
   "execution_count": null,
   "id": "e684146e-8e75-40c1-b340-78266d6d8f62",
   "metadata": {},
   "outputs": [],
   "source": [
    "file_id = \"1U34r_SnEZNpIPXM-_lRDjlin3vbTN_sL\"\n",
    "url = f\"https://drive.google.com/uc?export=download&id={file_id}\"\n",
    "\n",
    "# Download the file\n",
    "gdown.download(url, \"FD_SALAAN_2021.csv\", quiet=False)"
   ]
  },
  {
   "cell_type": "code",
   "execution_count": null,
   "id": "7dbc52aa-8ee8-4ebc-8f50-ec029df1ad52",
   "metadata": {},
   "outputs": [],
   "source": [
    "base = pd.read_csv(\"FD_SALAAN_2021.csv\", delimiter=\";\")"
   ]
  },
  {
   "cell_type": "code",
   "execution_count": null,
   "id": "d11cb5c9-09f7-488d-8a9a-f792f3ed1f6e",
   "metadata": {
    "scrolled": true
   },
   "outputs": [],
   "source": [
    "base.head()"
   ]
  },
  {
   "cell_type": "markdown",
   "id": "9ea9d361-b241-4a6a-b38a-2d3c024c2ca7",
   "metadata": {},
   "source": [
    "PICO stands for\n",
    " • Population : Who are we interested in? : all French population in 2021 (all employed French population ?)\n",
    " • Intervention : What treatment/intervention do we study? : do we find a specific treatment ? related to sex/geography/PCS? determined by lasso selection ?\n",
    " • Comparison : What are we comparing it to? depends on the treatment\n",
    " •Outcome : What are we interested in? wages "
   ]
  },
  {
   "cell_type": "markdown",
   "id": "16de7118-543e-480f-83f1-e2881b4961bb",
   "metadata": {},
   "source": [
    "## Exploratory data analysis: descriptive analysis"
   ]
  },
  {
   "cell_type": "code",
   "execution_count": null,
   "id": "ca9ac3ea-fb6f-47c4-8a1e-d2653e29df50",
   "metadata": {},
   "outputs": [],
   "source": [
    "base.columns"
   ]
  },
  {
   "cell_type": "code",
   "execution_count": null,
   "id": "3891e029-afec-4a1f-837c-3c0a238450ee",
   "metadata": {},
   "outputs": [],
   "source": [
    "base.describe()"
   ]
  },
  {
   "cell_type": "code",
   "execution_count": null,
   "id": "8c396743-816c-4b8b-91e7-f80d7075263e",
   "metadata": {},
   "outputs": [],
   "source": [
    "numerical_columns = [\n",
    "    'DATDEB', 'DATFIN', #date début et fin de rémunération par rapport au 01/01\n",
    "     'AGE', #age en années\n",
    "     'POND' #pondération 1/12e\n",
    "]\n",
    "categorical_columns = [\n",
    "    'A6', 'A17', 'A38' #activité en nomenclature agrégrée\n",
    "    'CPFD', #temps complet ou partiel\n",
    "    'DEPR', 'DEPT', #département résidence et travail\n",
    "    'DOMEMPL', 'DOMEMPL_EM', #domaine de l'emploi et l'établissement d'affectation/employeur\n",
    "     'DUREE', #durée de paie en jours\n",
    "    'FILT', #indic poste annexe 2 ou non-annexe 1 (seuils rémunération volume)\n",
    "    'REGR', 'REGT', #région de résidence et de travail\n",
    "    'SEXE', #1 homme 2 femme\n",
    "    'PCS', #PCS-ESE\n",
    "    'TYP_EMPLOI', #ordinaire, apprenti, autre\n",
    "    'CONV_COLL', #convention collective\n",
    "    'NBHEUR', 'NBHEUR_TOT', #nombre d'heures salariées total (quelle diff?)\n",
    "    'TRNNETO', #rémunération nette globale en tranches -> à passer en numérique ?\n",
    "    'TRALCHT', #total des indémnités de chômage, en tranches -> passage en numérique ?\n",
    "    'TREFF', #tranche d'effectif : de 0 à 250+ postes\n",
    "    'CONT_TRAV', #contrat de travail : APP apprentissage, TOA occasionnel ou à l'acte, TTP intérim, AUTre\n",
    "    'CS', #CSP mais code plus simple \n",
    "    'AGE_TR', #age en tranches quadriennales\n",
    "    'DATDEB_TR',\n",
    "       'DATFIN_TR', #dates début et fin rémunération en tranches\n",
    "    'DUREE_TR', #durée de paie exprimée en jours en tranches mensuelles\n",
    "]"
   ]
  },
  {
   "cell_type": "code",
   "execution_count": null,
   "id": "315a819b-c803-4460-b3ed-3529d059868f",
   "metadata": {},
   "outputs": [],
   "source": [
    "base['PCS'].describe()"
   ]
  },
  {
   "cell_type": "code",
   "execution_count": null,
   "id": "1f631147-afe8-4f08-9753-39c632ed0da4",
   "metadata": {},
   "outputs": [],
   "source": [
    "base['PCS'].value_counts()"
   ]
  },
  {
   "cell_type": "code",
   "execution_count": null,
   "id": "a760dc2b-35db-481b-bf42-95052d908e84",
   "metadata": {},
   "outputs": [],
   "source": [
    "fig, ax = plt.subplots()\n",
    "ax.hist(base['DATDEB'], bins=100, cumulative=False)\n",
    "ax.set_xlabel('Date of start of revenue with respect to the 01/01')\n",
    "ax.set_ylabel('Frequency')\n",
    "plt.show()"
   ]
  },
  {
   "cell_type": "code",
   "execution_count": null,
   "id": "27f24bbd-bf8c-4f8d-9bb3-de911f7a1cd4",
   "metadata": {},
   "outputs": [],
   "source": [
    "fig, ax = plt.subplots()\n",
    "ax.hist(base['DATDEB'], bins=100, cumulative=False, log=True)\n",
    "ax.set_xlabel('Date of start of revenue')\n",
    "ax.set_ylabel('Frequency')\n",
    "plt.show()"
   ]
  },
  {
   "cell_type": "code",
   "execution_count": null,
   "id": "68846766-33b7-4ea9-848d-bc262c230e9f",
   "metadata": {
    "scrolled": true
   },
   "outputs": [],
   "source": [
    "fig, ax = plt.subplots()\n",
    "ax.hist(base['DATFIN'], bins=100, cumulative=False)\n",
    "ax.set_xlabel('Date of end of revenue with respect to the 01/01')\n",
    "ax.set_ylabel('Frequency')\n",
    "plt.show()"
   ]
  },
  {
   "cell_type": "code",
   "execution_count": null,
   "id": "f439db53-db18-46df-88df-cd35928a4507",
   "metadata": {},
   "outputs": [],
   "source": [
    "fig, ax = plt.subplots()\n",
    "ax.hist(base['DATFIN'], bins=100, cumulative=False, log=True)\n",
    "ax.set_xlabel('Date of end of revenue with respect to the 01/01')\n",
    "ax.set_ylabel('Frequency')\n",
    "plt.show()"
   ]
  },
  {
   "cell_type": "code",
   "execution_count": null,
   "id": "5612002a-441b-4868-b731-7d23a200d304",
   "metadata": {},
   "outputs": [],
   "source": [
    "base['DOMEMPL'].value_counts()"
   ]
  }
 ],
 "metadata": {
  "kernelspec": {
   "display_name": "Python 3 (ipykernel)",
   "language": "python",
   "name": "python3"
  },
  "language_info": {
   "codemirror_mode": {
    "name": "ipython",
    "version": 3
   },
   "file_extension": ".py",
   "mimetype": "text/x-python",
   "name": "python",
   "nbconvert_exporter": "python",
   "pygments_lexer": "ipython3",
   "version": "3.12.9"
  }
 },
 "nbformat": 4,
 "nbformat_minor": 5
}
