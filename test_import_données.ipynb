{
 "cells": [
  {
   "cell_type": "code",
   "execution_count": null,
   "id": "20cbeb0f-6cee-4a9f-87f8-0a9b5762010c",
   "metadata": {
    "scrolled": true
   },
   "outputs": [],
   "source": [
    "pip install gdown"
   ]
  },
  {
   "cell_type": "code",
   "execution_count": null,
   "id": "aa18c414-cf1b-4489-9790-88755418cd22",
   "metadata": {},
   "outputs": [],
   "source": [
    "import numpy as np\n",
    "import pandas as pd\n",
    "import geopandas as gpd\n",
    "from shapely.geometry import MultiPolygon\n",
    "from tqdm import tqdm\n",
    "import gdown\n",
    "import matplotlib.pyplot as plt\n",
    "from plotly.offline import init_notebook_mode\n",
    "init_notebook_mode(connected= True)\n",
    "import plotly.express as px"
   ]
  },
  {
   "cell_type": "code",
   "execution_count": null,
   "id": "4682bd16-6f13-4d02-bdf2-cc296885774b",
   "metadata": {},
   "outputs": [],
   "source": [
    "pd.set_option('display.max_columns', None)"
   ]
  },
  {
   "cell_type": "code",
   "execution_count": null,
   "id": "e684146e-8e75-40c1-b340-78266d6d8f62",
   "metadata": {},
   "outputs": [],
   "source": [
    "file_id = \"1U34r_SnEZNpIPXM-_lRDjlin3vbTN_sL\"\n",
    "url = f\"https://drive.google.com/uc?export=download&id={file_id}\"\n",
    "\n",
    "# Download the file\n",
    "gdown.download(url, \"FD_SALAAN_2021.csv\", quiet=False)"
   ]
  },
  {
   "cell_type": "code",
   "execution_count": null,
   "id": "7dbc52aa-8ee8-4ebc-8f50-ec029df1ad52",
   "metadata": {},
   "outputs": [],
   "source": [
    "base = pd.read_csv(\"FD_SALAAN_2021.csv\", delimiter=\";\")"
   ]
  },
  {
   "cell_type": "code",
   "execution_count": null,
   "id": "d11cb5c9-09f7-488d-8a9a-f792f3ed1f6e",
   "metadata": {
    "scrolled": true
   },
   "outputs": [],
   "source": [
    "base.head()"
   ]
  },
  {
   "cell_type": "markdown",
   "id": "9ea9d361-b241-4a6a-b38a-2d3c024c2ca7",
   "metadata": {},
   "source": [
    "PICO stands for\n",
    " • Population : Who are we interested in? : all French population in 2021 (all employed French population ?)\n",
    " • Intervention : What treatment/intervention do we study? : do we find a specific treatment ? related to sex/geography/PCS? determined by lasso selection ?\n",
    " • Comparison : What are we comparing it to? depends on the treatment\n",
    " •Outcome : What are we interested in? wages "
   ]
  },
  {
   "cell_type": "markdown",
   "id": "16de7118-543e-480f-83f1-e2881b4961bb",
   "metadata": {},
   "source": [
    "### Treatment of the data "
   ]
  },
  {
   "cell_type": "code",
   "execution_count": null,
   "id": "ca9ac3ea-fb6f-47c4-8a1e-d2653e29df50",
   "metadata": {},
   "outputs": [],
   "source": [
    "base.columns"
   ]
  },
  {
   "cell_type": "code",
   "execution_count": null,
   "id": "3891e029-afec-4a1f-837c-3c0a238450ee",
   "metadata": {},
   "outputs": [],
   "source": [
    "base.describe()"
   ]
  },
  {
   "cell_type": "code",
   "execution_count": null,
   "id": "8c396743-816c-4b8b-91e7-f80d7075263e",
   "metadata": {},
   "outputs": [],
   "source": [
    "numerical_columns = [\n",
    "    'DATDEB', 'DATFIN', #date début et fin de rémunération par rapport au 01/01\n",
    "     'AGE', #age en années\n",
    "     'POND', #pondération 1/12e\n",
    "    'DUREE', #durée de paie en jours\n",
    "      'NBHEUR', 'NBHEUR_TOT', #nombre d'heures salariées total (quelle diff?)\n",
    "]\n",
    "categorical_columns = [\n",
    "    'A6', 'A17', 'A38' #activité en nomenclature agrégrée\n",
    "    'CPFD', #temps complet ou partiel\n",
    "    'DEPR', 'DEPT', #département résidence et travail\n",
    "    'DOMEMPL', 'DOMEMPL_EM', #domaine de l'emploi et l'établissement d'affectation/employeur\n",
    "    \n",
    "    'FILT', #indic poste annexe 2 ou non-annexe 1 (seuils rémunération volume)\n",
    "    'REGR', 'REGT', #région de résidence et de travail\n",
    "    'SEXE', #1 homme 2 femme\n",
    "    'PCS', #PCS-ESE\n",
    "    'TYP_EMPLOI', #ordinaire, apprenti, autre\n",
    "    'CONV_COLL', #convention collective\n",
    "  \n",
    "    'TRNNETO', #rémunération nette globale en tranches -> à passer en numérique ?\n",
    "    'TRALCHT', #total des indémnités de chômage, en tranches -> passage en numérique ?\n",
    "    'TREFF', #tranche d'effectif : de 0 à 250+ postes\n",
    "    'CONT_TRAV', #contrat de travail : APP apprentissage, TOA occasionnel ou à l'acte, TTP intérim, AUTre\n",
    "    'CS', #CSP mais code plus simple \n",
    "    'AGE_TR', #age en tranches quadriennales\n",
    "    'DATDEB_TR',\n",
    "       'DATFIN_TR', #dates début et fin rémunération en tranches\n",
    "    'DUREE_TR', #durée de paie exprimée en jours en tranches mensuelles\n",
    "]"
   ]
  },
  {
   "cell_type": "markdown",
   "id": "407cba21-1777-4333-b828-4b49fc3a2076",
   "metadata": {},
   "source": [
    "### Changing the names of some categorical variables"
   ]
  },
  {
   "cell_type": "code",
   "execution_count": null,
   "id": "6e754862-12ff-4f8e-9d75-cfee4f63c4ff",
   "metadata": {},
   "outputs": [],
   "source": [
    "#domaine d'emploi\n",
    "\n",
    "code_to_name = {\n",
    "    1 : \"Fonction Publique d'Etat\",\n",
    "    2 : 'Fonction Publique Territoriale',\n",
    "    3 : 'Fonction Publique Hospitalière',\n",
    "    4 : 'Autres Organismes Publics Administratifs',\n",
    "    5 : \"Personnes morales de droit public soumises au droit commercial\",\n",
    "6 : \"Entreprises individuelles\",\n",
    "7 : \"Particuliers Employeurs\", \n",
    "8 : \"Organismes privés spécialisés et groupements de droit privé\",\n",
    "9 : \"Autres sociétés privées\"\n",
    "}\n",
    "\n",
    "base['DOMEMPL_EM_N'] = base['DOMEMPL_EM'].replace(code_to_name)\n",
    "\n",
    "base['DOMEMPL_N'] = base['DOMEMPL'].replace(code_to_name)"
   ]
  },
  {
   "cell_type": "code",
   "execution_count": null,
   "id": "b8cc6ca4-7be2-4039-bef4-b94a3be36102",
   "metadata": {},
   "outputs": [],
   "source": [
    "code_to_name_reg = {\n",
    "    1 : \"Guadeloupe\",\n",
    "2 :\"Martinique\",\n",
    "3 : \"Guyane\",\n",
    "4 : \"Réunion\", \n",
    "11 : \"Île-de-France\",\n",
    "24 : \"Centre-Val de Loire\",\n",
    "27 : \"Bourgogne – Franche-Comté\",\n",
    "28 : \"Normandie\",\n",
    "32 : \"Nord – Pas-de-Calais – Picardie\",\n",
    "44 : \"Alsace – Champagne-Ardenne - Lorraine\",\n",
    "52 : \"Pays de la Loire\",\n",
    "53 : \"Bretagne\",\n",
    "75 : \"Aquitaine – Limousin – Poitou-Charentes\",\n",
    "76 : \"Languedoc-Roussillon – Midi-Pyrénées\",\n",
    "84 : \"Auvergne – Rhône-Alpes\",\n",
    "93 : \"Provence-Alpes-Côte d'Azur\",\n",
    "94 : \"Corse\",\n",
    "99 : \"Étranger et TOM\"}\n",
    "\n",
    "base['REGR_N'] = base['REGR'].replace(code_to_name_reg)\n",
    "base['REGT_N'] = base['REGT'].replace(code_to_name_reg)"
   ]
  },
  {
   "cell_type": "code",
   "execution_count": null,
   "id": "2459d284-16a1-4324-9593-231823d4c2d7",
   "metadata": {},
   "outputs": [],
   "source": [
    "code_to_name_CS = {\n",
    "   10 : \"Agriculteurs (salariés de leur exploitation)\",\n",
    "21 : \"Artisans (salariés de leur entreprise)\",\n",
    "22 : \"Commerçants et assimilés (salariés de leur entreprise)\",\n",
    "23 : \"Chefs d'entreprise de 10 salariés ou plus (salariés de leur entreprise)\",\n",
    "31 : \"Professions libérales (exercées sous statut de salarié)\",\n",
    "33 : \"Cadres de la fonction publique\",\n",
    "34 : \"Professeurs, professions scientifiques\",\n",
    "35 : \"Professions de l'information, des arts et des spectacles\",\n",
    "37 : \"Cadres administratifs et commerciaux d'entreprises\",\n",
    "38 : \"Ingénieurs et cadres techniques d'entreprises\",\n",
    "42 : \"Professeurs des écoles, instituteurs et professions assimilées\",\n",
    "43 : \"Professions intermédiaires de la santé et du travail social\",\n",
    "44 : \"Clergé, religieux\",\n",
    "45 : \"Professions intermédiaires administratives de la fonction publique\",\n",
    "46 : \"Professions intermédiaires administratives et commerciales des entreprises\",\n",
    "47 : \"Techniciens (sauf techniciens tertiaires)\",\n",
    "48 : \"Contremaîtres, agents de maîtrise (maîtrise administrative exclue)\",\n",
    "52 : \"Employés civils et agents de service de la fonction publique\",\n",
    "53 : \"Agents de surveillance\",\n",
    "54 : \"Employés administratifs d'entreprise\",\n",
    "55 : \"Employés de commerce\",\n",
    "56 : \"Personnels des services directs aux particuliers\",\n",
    "62 : \"Ouvriers qualifiés de type industriel\",\n",
    "63 : \"Ouvriers qualifiés de type artisanal\",\n",
    "64 : \"Chauffeurs\",\n",
    "65 : \"Ouvriers qualifiés de la manutention, du magasinage et du transport\",\n",
    "67 : \"Ouvriers non qualifiés de type industriel\",\n",
    "68 : \"Ouvriers non qualifiés de type artisanal\",\n",
    "69 : \"Ouvriers agricoles et assimilés\"}\n",
    "\n",
    "base['CS_N'] = base['CS'].replace(code_to_name_CS)"
   ]
  },
  {
   "cell_type": "code",
   "execution_count": null,
   "id": "315a819b-c803-4460-b3ed-3529d059868f",
   "metadata": {},
   "outputs": [],
   "source": [
    "base['PCS'].describe()"
   ]
  },
  {
   "cell_type": "code",
   "execution_count": null,
   "id": "1f631147-afe8-4f08-9753-39c632ed0da4",
   "metadata": {
    "jupyter": {
     "source_hidden": true
    }
   },
   "outputs": [],
   "source": [
    "base['DEPR_N'].value_counts()"
   ]
  },
  {
   "cell_type": "markdown",
   "id": "3c2efd40-0ece-44ad-892d-c2e7339487cb",
   "metadata": {},
   "source": [
    "# TODO: change dept in int before replacing"
   ]
  },
  {
   "cell_type": "code",
   "execution_count": null,
   "id": "46086b09-5b44-43fd-b6df-42ae1218cbfd",
   "metadata": {},
   "outputs": [],
   "source": [
    "code_to_name_dep = {\n",
    "    1 : \"Ain\",\n",
    "2 : \"Aisne\",\n",
    "3 : \"Allier\",\n",
    "4 : \"Alpes-de-Haute-Provence\",\n",
    "5 : \"Hautes-Alpes\",\n",
    "6 : \"Alpes-Maritimes\",\n",
    "7 : \"Ardèche\",\n",
    "8 : \"Ardennes\",\n",
    "9 : \"Ariège\",\n",
    "10 : \"Aube\",\n",
    "11 : \"Aude\",\n",
    "12 : \"Aveyron\",\n",
    "13 : \"Bouches-du-Rhône\",\n",
    "14 : \"Calvados\",\n",
    "15 : \"Cantal\",\n",
    "16 : \"Charente\",\n",
    "17 : \"Charente-Maritime\",\n",
    "18 : \"Cher\",\n",
    "19 : \"Corrèze\",\n",
    "\"2A\" : \"Corse-du-Sud\",\n",
    "\"2B\" : \"Haute-Corse\",\n",
    "21 : \"Côte-d'Or\",\n",
    "22 : \"Côtes-d'Armor\",\n",
    "23 : \"Creuse\",\n",
    "24 : \"Dordogne\",\n",
    "25 : \"Doubs\",\n",
    "26 : \"Drôme\",\n",
    "27 : \"Eure\",\n",
    "28 : \"Eure-et-Loir\",\n",
    "29 : \"Finistère\",\n",
    "30 : \"Gard\",\n",
    "31 : \"Haute-Garonne\",\n",
    "32 :\"Gers\",\n",
    "33 : \"Gironde\",\n",
    "34 : \"Hérault\",\n",
    "35 : \"Ille-et-Vilaine\",\n",
    "36 : \"Indre\",\n",
    "37 : \"Indre-et-Loire\",\n",
    "38 : \"Isère\",\n",
    "39 : \"Jura\",\n",
    "40 : \"Landes\",\n",
    "41 : \"Loir-et-Cher\",\n",
    "42 : \"Loire\",\n",
    "43 : \"Haute-Loire\",\n",
    "44 : \"Loire-Atlantique\",\n",
    "45 : \"Loiret\",\n",
    "46 : \"Lot\",\n",
    "47 : \"Lot-et-Garonne\",\n",
    "48 : \"Lozère\",\n",
    "49 : \"Maine-et-Loire\",\n",
    "50 : \"Manche\",\n",
    "51 : \"Marne\",\n",
    "52 : \"Haute-Marne\",\n",
    "53 : \"Mayenne\",\n",
    "54 : \"Meurthe-et-Moselle\",\n",
    "55 : \"Meuse\",\n",
    "56 : \"Morbihan\",\n",
    "57 : \"Moselle\",\n",
    "58 : \"Nièvre\",\n",
    "59 : \"Nord\",\n",
    "60 : \"Oise\",\n",
    "61 : \"Orne\",\n",
    "62 : \"Pas-de-Calais\",\n",
    "63 : \"Puy-de-Dôme\",\n",
    "64 : \"Pyrénées-Atlantiques\",\n",
    "65 : \"Hautes-Pyrénées\",\n",
    "66 : \"Pyrénées-Orientales\",\n",
    "67 : \"Bas-Rhin\",\n",
    "68 : \"Haut-Rhin\",\n",
    "69 : \"Rhône\",\n",
    "70 : \"Haute-Saône\",\n",
    "71 : \"Saône-et-Loire\",\n",
    "72 : \"Sarthe\",\n",
    "73 : \"Savoie\",\n",
    "74 : \"Haute-Savoie\",\n",
    "75 : \"Paris\",\n",
    "76 : \"Seine-Maritime\",\n",
    "77 : \"Seine-et-Marne\",\n",
    "78 : \"Yvelines\",\n",
    "79 : \"Deux-Sèvres\",\n",
    "80 : \"Somme\",\n",
    "81 : \"Tarn\",\n",
    "82 : \"Tarn-et-Garonne\",\n",
    "83 : \"Var\",\n",
    "84 : \"Vaucluse\",\n",
    "85 : \"Vendée\",\n",
    "86 : \"Vienne\",\n",
    "87 : \"Haute-Vienne\",\n",
    "88 : \"Vosges\",\n",
    "89 : \"Yonne\",\n",
    "90 : \"Territoire de Belfort\",\n",
    "91 : \"Essonne\",\n",
    "92 : \"Hauts-de-Seine\",\n",
    "93 : \"Seine-Saint-Denis\",\n",
    "94 : \"Val-de-Marne\",\n",
    "95 : \"Val-d'Oise\",\n",
    "971 : \"Guadeloupe\",\n",
    "972 : \"Martinique\",\n",
    "973 : \"Guyane\",\n",
    "974 : \"La Réunion\",\n",
    "99 : \"Etranger et TOM\"}\n",
    "\n",
    "base['DEPR_N'] = base['DEPR'].replace(code_to_name_dep)\n",
    "base['DEPT_N'] = base['DEPT'].replace(code_to_name_dep)"
   ]
  },
  {
   "cell_type": "code",
   "execution_count": null,
   "id": "3f6da430-d55c-4bc8-bbb2-3c958487e520",
   "metadata": {},
   "outputs": [],
   "source": [
    "base.dtypes"
   ]
  },
  {
   "cell_type": "markdown",
   "id": "57712f25-8855-45b4-86a5-26d58e573a3f",
   "metadata": {},
   "source": [
    "### exporting the dataframe"
   ]
  },
  {
   "cell_type": "code",
   "execution_count": null,
   "id": "3ce76db6-6bdd-4935-b229-a1fecdb93c56",
   "metadata": {},
   "outputs": [],
   "source": [
    "base.to_csv('INSEE_DATA_TREATED.csv')"
   ]
  }
 ],
 "metadata": {
  "kernelspec": {
   "display_name": "Python 3 (ipykernel)",
   "language": "python",
   "name": "python3"
  },
  "language_info": {
   "codemirror_mode": {
    "name": "ipython",
    "version": 3
   },
   "file_extension": ".py",
   "mimetype": "text/x-python",
   "name": "python",
   "nbconvert_exporter": "python",
   "pygments_lexer": "ipython3",
   "version": "3.12.9"
  }
 },
 "nbformat": 4,
 "nbformat_minor": 5
}
