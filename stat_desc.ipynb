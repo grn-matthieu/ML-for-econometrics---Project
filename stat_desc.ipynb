{
 "cells": [
  {
   "cell_type": "code",
   "execution_count": null,
   "id": "2c042a54-18b3-4ef7-94f4-ee3977a89d3b",
   "metadata": {},
   "outputs": [],
   "source": [
    "import numpy as np\n",
    "import pandas as pd\n",
    "import geopandas as gpd\n",
    "from shapely.geometry import MultiPolygon\n",
    "from tqdm import tqdm\n",
    "import gdown\n",
    "import matplotlib.pyplot as plt\n",
    "from plotly.offline import init_notebook_mode\n",
    "init_notebook_mode(connected= True)\n",
    "import plotly.express as px"
   ]
  },
  {
   "cell_type": "markdown",
   "id": "f42d0d73-3af8-462f-ad94-e69ced0ba8b6",
   "metadata": {},
   "source": [
    "# import base ???"
   ]
  },
  {
   "cell_type": "code",
   "execution_count": null,
   "id": "cfd24fd7-37c5-45d0-b94e-772840d85a65",
   "metadata": {},
   "outputs": [],
   "source": [
    "base = pd.read_csv(\"INSEE_DATA_TREATED.csv\", delimiter=\",\")"
   ]
  },
  {
   "cell_type": "code",
   "execution_count": null,
   "id": "7055111f-f948-4cc8-aaea-364d6dffc42b",
   "metadata": {},
   "outputs": [],
   "source": [
    "base.columns"
   ]
  },
  {
   "cell_type": "code",
   "execution_count": null,
   "id": "10e1093e-2595-4a30-856d-649f4096dc4b",
   "metadata": {},
   "outputs": [],
   "source": [
    "numerical_columns = [\n",
    "    'DATDEB', 'DATFIN', #date début et fin de rémunération par rapport au 01/01\n",
    "     'AGE', #age en années\n",
    "     'POND', #pondération 1/12e\n",
    "    'DUREE', #durée de paie en jours\n",
    "      'NBHEUR', 'NBHEUR_TOT', #nombre d'heures salariées total (quelle diff?)\n",
    "    'WAGE', #transformation of TRNNETO\n",
    "    'UNEMP' #transformation of TRALCHT\n",
    "]\n",
    "categorical_columns = [\n",
    "    'A6', 'A17', 'A38' #activité en nomenclature agrégrée\n",
    "    'CPFD', #temps complet ou partiel\n",
    "    'DEPR', 'DEPT', #département résidence et travail\n",
    "    'DOMEMPL', 'DOMEMPL_EM', #domaine de l'emploi et l'établissement d'affectation/employeur\n",
    "    \n",
    "    'FILT', #indic poste annexe 2 ou non-annexe 1 (seuils rémunération volume)\n",
    "    'REGR', 'REGT', #région de résidence et de travail\n",
    "    'SEXE', #1 homme 2 femme\n",
    "    'PCS', #PCS-ESE\n",
    "    'TYP_EMPLOI', #ordinaire, apprenti, autre\n",
    "    'CONV_COLL', #convention collective\n",
    "  \n",
    "    'TRNNETO', #rémunération nette globale en tranches -> à passer en numérique ?\n",
    "    'TRALCHT', #total des indémnités de chômage, en tranches -> passage en numérique ?\n",
    "    'TREFF', #tranche d'effectif : de 0 à 250+ postes\n",
    "    'CONT_TRAV', #contrat de travail : APP apprentissage, TOA occasionnel ou à l'acte, TTP intérim, AUTre\n",
    "    'CS', #CSP mais code plus simple \n",
    "    'AGE_TR', #age en tranches quadriennales\n",
    "    'DATDEB_TR',\n",
    "       'DATFIN_TR', #dates début et fin rémunération en tranches\n",
    "    'DUREE_TR', #durée de paie exprimée en jours en tranches mensuelles\n",
    "]"
   ]
  },
  {
   "cell_type": "markdown",
   "id": "954db6ce-18b9-40bf-91e6-da4da5872ca9",
   "metadata": {},
   "source": [
    "### Exploratory data analysis: descriptive analysis"
   ]
  },
  {
   "cell_type": "code",
   "execution_count": null,
   "id": "fea2a4bc-72d0-40b1-bbbb-8a3c2cb5714a",
   "metadata": {},
   "outputs": [],
   "source": [
    "fig, ax = plt.subplots()\n",
    "ax.hist(base['DATDEB'], bins=100, cumulative=False)\n",
    "ax.set_xlabel('Date of start of revenue with respect to the 01/01')\n",
    "ax.set_ylabel('Frequency')\n",
    "plt.show()"
   ]
  },
  {
   "cell_type": "code",
   "execution_count": null,
   "id": "e9a3cc19-dd48-401f-9cad-53dc8a4f768e",
   "metadata": {},
   "outputs": [],
   "source": [
    "fig, ax = plt.subplots()\n",
    "ax.hist(base['DATFIN'], bins=100, cumulative=False)\n",
    "ax.set_xlabel('Date of end of revenue with respect to the 01/01')\n",
    "ax.set_ylabel('Frequency')\n",
    "plt.show()"
   ]
  },
  {
   "cell_type": "code",
   "execution_count": null,
   "id": "0f3a2194-4c67-4e06-acdc-04dd63a08ca5",
   "metadata": {},
   "outputs": [],
   "source": [
    "fig, ax = plt.subplots()\n",
    "ax.hist(base['DATFIN'], bins=100, cumulative=False, log=True)\n",
    "ax.set_xlabel('Date of end of revenue with respect to the 01/01')\n",
    "ax.set_ylabel('Frequency')\n",
    "plt.show()"
   ]
  },
  {
   "cell_type": "code",
   "execution_count": null,
   "id": "230e5940-fc8c-45c1-a974-bc0031d97fd8",
   "metadata": {},
   "outputs": [],
   "source": [
    "fig, ax = plt.subplots()\n",
    "ax.hist(base['TRNNETO'], bins=100, cumulative=False)\n",
    "ax.set_xlabel('Date of start of revenue with respect to the 01/01')\n",
    "ax.set_ylabel('Frequency')\n",
    "plt.show()"
   ]
  },
  {
   "cell_type": "code",
   "execution_count": null,
   "id": "8bc70fab-e3a8-4318-b0d3-0033d0cf21f0",
   "metadata": {},
   "outputs": [],
   "source": [
    "base['TRNNETO'].value_counts()"
   ]
  },
  {
   "cell_type": "code",
   "execution_count": null,
   "id": "c95d74a0-363f-4d2b-b92e-db63545b5a9f",
   "metadata": {},
   "outputs": [],
   "source": [
    "fig, ax = plt.subplots()\n",
    "ax.hist(base['AGE'], bins=100, cumulative=False)\n",
    "ax.set_xlabel('Age')\n",
    "ax.set_ylabel('Frequency')\n",
    "plt.show()"
   ]
  },
  {
   "cell_type": "code",
   "execution_count": null,
   "id": "f6c9e9f8-8f42-42ae-9e04-719a87b9ea92",
   "metadata": {},
   "outputs": [],
   "source": [
    "categories = base['AGE_TR'].value_counts().index\n",
    "counts = base['AGE_TR'].value_counts().values\n",
    "fig, ax = plt.subplots()\n",
    "ax.bar(categories, counts, width=0.5)\n",
    "ax.set_xlabel(\"Age par tranche\")\n",
    "ax.set_ylabel('Frequency')\n",
    "plt.show()"
   ]
  },
  {
   "cell_type": "code",
   "execution_count": null,
   "id": "7bd8f3fe-eb89-41e6-b0d2-ccfd74c86625",
   "metadata": {},
   "outputs": [],
   "source": [
    "fig, ax = plt.subplots()\n",
    "ax.hist(base['CS'], bins=100, cumulative=False)\n",
    "ax.set_xlabel('CSP simplifié')\n",
    "ax.set_ylabel('Frequency')\n",
    "plt.show()"
   ]
  },
  {
   "cell_type": "code",
   "execution_count": null,
   "id": "03237a3f-3ebd-4ed4-8649-c58019892190",
   "metadata": {},
   "outputs": [],
   "source": [
    "categories = base['CS_N'].value_counts().index\n",
    "counts = base['CS_N'].value_counts().values\n",
    "fig, ax = plt.subplots()\n",
    "ax.barh(categories, counts)\n",
    "ax.set_xlabel(\"Catégorie Socio-Professionnelle\")\n",
    "ax.set_ylabel('Frequency')\n",
    "plt.show()"
   ]
  },
  {
   "cell_type": "code",
   "execution_count": null,
   "id": "a3731ae2-b7cb-4cb8-952a-9dec09cc8346",
   "metadata": {},
   "outputs": [],
   "source": [
    "categories = base['CONT_TRAV'].value_counts().index\n",
    "counts = base['CONT_TRAV'].value_counts().values\n",
    "fig, ax = plt.subplots()\n",
    "ax.bar(categories, counts, width=0.5)\n",
    "ax.set_xlabel('Contrat de travail')\n",
    "ax.set_ylabel('Frequency')\n",
    "plt.show()"
   ]
  },
  {
   "cell_type": "code",
   "execution_count": null,
   "id": "a0a258fe-f5c3-487b-ba08-80f0529e5986",
   "metadata": {},
   "outputs": [],
   "source": [
    "categories = base['DOMEMPL_EM_N'].value_counts().index\n",
    "counts = base['DOMEMPL_EM_N'].value_counts().values\n",
    "fig, ax = plt.subplots()\n",
    "ax.barh(categories, counts)\n",
    "ax.set_xlabel(\"Domaine d'emploi\")\n",
    "ax.set_ylabel('Frequency')\n",
    "plt.show()"
   ]
  },
  {
   "cell_type": "code",
   "execution_count": null,
   "id": "e7c6d76c-3c8e-43ab-ae4e-720ebc7b401c",
   "metadata": {},
   "outputs": [],
   "source": [
    "categories = base['DOMEMPL'].value_counts().index\n",
    "counts = base['DOMEMPL'].value_counts().values\n",
    "fig, ax = plt.subplots()\n",
    "ax.bar(categories, counts, width=0.5)\n",
    "ax.set_xlabel(\"Domaine d'emploi\")\n",
    "ax.set_ylabel('Frequency')\n",
    "plt.show()"
   ]
  },
  {
   "cell_type": "code",
   "execution_count": null,
   "id": "99a86926-20de-41b3-ae97-6c4b0ccbf9e7",
   "metadata": {},
   "outputs": [],
   "source": [
    "fig, ax = plt.subplots()\n",
    "ax.hist(base['DUREE'], bins=100, cumulative=False)\n",
    "ax.set_xlabel('Durée de paie, en jours')\n",
    "ax.set_ylabel('Frequency')\n",
    "plt.show()"
   ]
  },
  {
   "cell_type": "code",
   "execution_count": null,
   "id": "a4ad4f27-bffb-445a-8760-d09c150f76a7",
   "metadata": {},
   "outputs": [],
   "source": [
    "fig, ax = plt.subplots()\n",
    "ax.hist(base['DUREE'], bins=100, cumulative=False, log=True)\n",
    "ax.set_xlabel('Durée de paie, en jours')\n",
    "ax.set_ylabel('Frequency')\n",
    "plt.show()"
   ]
  },
  {
   "cell_type": "code",
   "execution_count": null,
   "id": "18b99314-2a70-4d9f-b7fd-b5cf706ce427",
   "metadata": {},
   "outputs": [],
   "source": [
    "categories = base['REGT'].value_counts().index\n",
    "counts = base['REGT'].value_counts().values\n",
    "fig, ax = plt.subplots()\n",
    "ax.bar(categories, counts, width=0.5)\n",
    "ax.set_xlabel(\"Région de travail\")\n",
    "ax.set_ylabel('Frequency')\n",
    "plt.show()"
   ]
  },
  {
   "cell_type": "code",
   "execution_count": null,
   "id": "91b236e7-1fdc-40cd-aa78-416b90ad184a",
   "metadata": {},
   "outputs": [],
   "source": [
    "categories = base['REGT_N'].value_counts().index\n",
    "counts = base['REGT_N'].value_counts().values\n",
    "fig, ax = plt.subplots()\n",
    "ax.barh(categories, counts)\n",
    "ax.set_xlabel(\"Région de travail\")\n",
    "ax.set_ylabel('Frequency')\n",
    "plt.show()"
   ]
  },
  {
   "cell_type": "code",
   "execution_count": null,
   "id": "e6d7bf07-f52d-4012-bc64-04ac72f1decf",
   "metadata": {},
   "outputs": [],
   "source": [
    "categories = base['REGR'].value_counts().index\n",
    "counts = base['REGR'].value_counts().values\n",
    "fig, ax = plt.subplots()\n",
    "ax.bar(categories, counts, width=0.5)\n",
    "ax.set_xlabel(\"Région de résidence\")\n",
    "ax.set_ylabel('Frequency')\n",
    "plt.show()"
   ]
  },
  {
   "cell_type": "code",
   "execution_count": null,
   "id": "a8d96d78-558a-4831-87fb-868bc0339811",
   "metadata": {},
   "outputs": [],
   "source": [
    "categories = base['REGR_N'].value_counts().index\n",
    "counts = base['REGR_N'].value_counts().values\n",
    "fig, ax = plt.subplots()\n",
    "ax.barh(categories, counts)\n",
    "ax.set_xlabel(\"Région de résidence\")\n",
    "ax.set_ylabel('Frequency')\n",
    "plt.show()"
   ]
  },
  {
   "cell_type": "code",
   "execution_count": null,
   "id": "8cc68cc7-e065-459e-80aa-8af9a36103b8",
   "metadata": {},
   "outputs": [],
   "source": [
    "fig, ax = plt.subplots()\n",
    "ax.hist(base['NBHEUR'], bins=100, cumulative=False)\n",
    "ax.set_xlabel(\"Nombre d'heures salariées\")\n",
    "ax.set_ylabel('Frequency')\n",
    "plt.show()"
   ]
  },
  {
   "cell_type": "code",
   "execution_count": null,
   "id": "ec3e29d4-1023-4434-9942-bed59b7f6681",
   "metadata": {},
   "outputs": [],
   "source": [
    "fig, ax = plt.subplots()\n",
    "ax.hist(base['POND'], bins=100, cumulative=False)\n",
    "ax.set_xlabel(\"Nombre d'heures salariées\")\n",
    "ax.set_ylabel('Frequency')\n",
    "plt.show()"
   ]
  },
  {
   "cell_type": "code",
   "execution_count": null,
   "id": "35dce438-55e4-4ad5-b580-503afddc7074",
   "metadata": {},
   "outputs": [],
   "source": [
    "categories = base['DEPR_N'].value_counts().index\n",
    "counts = base['DEPR_N'].value_counts().values\n",
    "fig, ax = plt.subplots()\n",
    "ax.barh(categories, counts)\n",
    "ax.set_xlabel(\"Département de résidence\")\n",
    "ax.set_ylabel('Frequency')\n",
    "plt.show()"
   ]
  },
  {
   "cell_type": "code",
   "execution_count": null,
   "id": "6916d83e-0472-42be-a454-0aacaf194065",
   "metadata": {},
   "outputs": [],
   "source": [
    "fig, ax = plt.subplots()\n",
    "ax.hist(base['WAGE'], bins=100, cumulative=False)\n",
    "ax.set_xlabel(\"Salaire\")\n",
    "ax.set_ylabel('Frequency')\n",
    "plt.show()"
   ]
  },
  {
   "cell_type": "code",
   "execution_count": null,
   "id": "981fbe08-15d9-4159-b61e-614525e61457",
   "metadata": {},
   "outputs": [],
   "source": [
    "fig, ax = plt.subplots()\n",
    "ax.hist(base['UNEMP'], bins=100, cumulative=False)\n",
    "ax.set_xlabel(\"Chômage\")\n",
    "ax.set_ylabel('Frequency')\n",
    "plt.show()"
   ]
  },
  {
   "cell_type": "code",
   "execution_count": null,
   "id": "b851eaef-52cc-4d04-b998-03b56d0bbe94",
   "metadata": {},
   "outputs": [],
   "source": [
    "base['UNEMP'].value_counts()"
   ]
  }
 ],
 "metadata": {
  "kernelspec": {
   "display_name": "Python 3 (ipykernel)",
   "language": "python",
   "name": "python3"
  },
  "language_info": {
   "codemirror_mode": {
    "name": "ipython",
    "version": 3
   },
   "file_extension": ".py",
   "mimetype": "text/x-python",
   "name": "python",
   "nbconvert_exporter": "python",
   "pygments_lexer": "ipython3",
   "version": "3.12.9"
  }
 },
 "nbformat": 4,
 "nbformat_minor": 5
}
