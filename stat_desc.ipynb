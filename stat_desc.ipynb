{
 "cells": [
  {
   "cell_type": "markdown",
   "id": "881d5b88",
   "metadata": {},
   "source": [
    "# Exploratory data analysis\n",
    "\n",
    "This notebook provides an exploratory data analysis of the dataset. As a reminder, this dataset  - `Description des emplois salariés en 2021` is taken from the `Insee` website at the following link : <https://www.insee.fr/fr/statistiques/7651654#dictionnaire>.\n",
    "We aim to study the effect of gender on the level of wages, depending on several variables. This code provides a first glance at the structure of our data."
   ]
  },
  {
   "cell_type": "code",
   "execution_count": null,
   "id": "2c042a54-18b3-4ef7-94f4-ee3977a89d3b",
   "metadata": {},
   "outputs": [],
   "source": [
    "import numpy as np\n",
    "import pandas as pd\n",
    "import geopandas as gpd\n",
    "from shapely.geometry import MultiPolygon\n",
    "from tqdm import tqdm\n",
    "import gdown\n",
    "import matplotlib.pyplot as plt\n",
    "from plotly.offline import init_notebook_mode\n",
    "init_notebook_mode(connected= True)\n",
    "import plotly.express as px\n",
    "import seaborn as sns"
   ]
  },
  {
   "cell_type": "markdown",
   "id": "92c72851",
   "metadata": {},
   "source": [
    "`Warning` : This code should be run after the [import and formating notebook](test_import_données.ipynb)."
   ]
  },
  {
   "cell_type": "code",
   "execution_count": null,
   "id": "cfd24fd7-37c5-45d0-b94e-772840d85a65",
   "metadata": {},
   "outputs": [],
   "source": [
    "base = pd.read_csv(\"INSEE_DATA_TREATED.csv\", delimiter=\",\")"
   ]
  },
  {
   "cell_type": "code",
   "execution_count": null,
   "id": "7055111f-f948-4cc8-aaea-364d6dffc42b",
   "metadata": {},
   "outputs": [],
   "source": [
    "base.columns"
   ]
  },
  {
   "cell_type": "markdown",
   "id": "04e77547",
   "metadata": {},
   "source": [
    "Further explanations on the meaning of the variables and their type :"
   ]
  },
  {
   "cell_type": "code",
   "execution_count": null,
   "id": "10e1093e-2595-4a30-856d-649f4096dc4b",
   "metadata": {},
   "outputs": [],
   "source": [
    "numerical_columns = [\n",
    "    'DATDEB', 'DATFIN', #date début et fin de rémunération par rapport au 01/01\n",
    "     'AGE', #age en années\n",
    "     'POND', #pondération 1/12e\n",
    "    'DUREE', #durée de paie en jours\n",
    "      'NBHEUR', 'NBHEUR_TOT', #nombre d'heures salariées total (quelle diff?)\n",
    "    'WAGE', #transformation of TRNNETO\n",
    "    'UNEMP' #transformation of TRALCHT\n",
    "]\n",
    "categorical_columns = [\n",
    "    'A6', 'A17', 'A38' #activité en nomenclature agrégrée\n",
    "    'CPFD', #temps complet ou partiel\n",
    "    'DEPR', 'DEPT', #département résidence et travail\n",
    "    'DOMEMPL', 'DOMEMPL_EM', #domaine de l'emploi et l'établissement d'affectation/employeur\n",
    "    \n",
    "    'FILT', #indic poste annexe 2 ou non-annexe 1 (seuils rémunération volume)\n",
    "    'REGR', 'REGT', #région de résidence et de travail\n",
    "    'SEXE', #1 homme 2 femme\n",
    "    'PCS', #PCS-ESE\n",
    "    'TYP_EMPLOI', #ordinaire, apprenti, autre\n",
    "    'CONV_COLL', #convention collective\n",
    "  \n",
    "    'TRNNETO', #rémunération nette globale en tranches -> à passer en numérique ?\n",
    "    'TRALCHT', #total des indémnités de chômage, en tranches -> passage en numérique ?\n",
    "    'TREFF', #tranche d'effectif : de 0 à 250+ postes\n",
    "    'CONT_TRAV', #contrat de travail : APP apprentissage, TOA occasionnel ou à l'acte, TTP intérim, AUTre\n",
    "    'CS', #CSP mais code plus simple \n",
    "    'AGE_TR', #age en tranches quadriennales\n",
    "    'DATDEB_TR',\n",
    "       'DATFIN_TR', #dates début et fin rémunération en tranches\n",
    "    'DUREE_TR', #durée de paie exprimée en jours en tranches mensuelles\n",
    "    'DOMEMPL_EM_N', 'DOMEMPL_N', 'REGR_N',\n",
    "       'REGT_N', 'CS_N', 'DEPR_N', 'DEPT_N','A38_N' #les variables renommées avec les labels correspondants aux codes\n",
    "]\n",
    "all_columns = numerical_columns + categorical_columns"
   ]
  },
  {
   "cell_type": "code",
   "execution_count": null,
   "id": "39872ed1",
   "metadata": {},
   "outputs": [],
   "source": [
    "#The dataset is very large :\n",
    "print(f\"Number of rows : {base.shape[0]}, number of columns : {base.shape[1]}\")"
   ]
  },
  {
   "cell_type": "markdown",
   "id": "954db6ce-18b9-40bf-91e6-da4da5872ca9",
   "metadata": {},
   "source": [
    "### Descriptive analysis"
   ]
  },
  {
   "cell_type": "markdown",
   "id": "749cc6f3",
   "metadata": {},
   "source": [
    "Our target variable is the wage of our individuals. In the dataset, wage is coded as a categorical variable."
   ]
  },
  {
   "cell_type": "code",
   "execution_count": null,
   "id": "315464f1",
   "metadata": {},
   "outputs": [],
   "source": [
    "#WAGE has been preprocessed. We chose to keep the lower bound of the each wage range.\n",
    "\n",
    "base['WAGE'].sort_values().unique()"
   ]
  },
  {
   "cell_type": "code",
   "execution_count": null,
   "id": "cb498bf3",
   "metadata": {},
   "outputs": [],
   "source": [
    "plt.figure(figsize=(10, 6))\n",
    "sns.histplot(base['WAGE'], bins=100, color = 'royalblue', alpha = 0.5)\n",
    "plt.title('Distribution of the wage')"
   ]
  },
  {
   "cell_type": "code",
   "execution_count": null,
   "id": "08541775",
   "metadata": {},
   "outputs": [],
   "source": [
    "plt.figure(figsize=(10, 6))\n",
    "sns.histplot(base['AGE'], bins=70, color = 'royalblue', alpha = 0.5)\n",
    "plt.title('Distribution of the age')"
   ]
  },
  {
   "cell_type": "markdown",
   "id": "91d3d737",
   "metadata": {},
   "source": [
    "Ages range from 15 to 90."
   ]
  },
  {
   "cell_type": "code",
   "execution_count": null,
   "id": "e9a9c085",
   "metadata": {},
   "outputs": [],
   "source": [
    "#Plot the correlation matrix of the numerical columns and show which ones are significantly correlated\n",
    "\n",
    "corr = base[numerical_columns].corr()\n",
    "mask = np.triu(np.ones_like(corr, dtype=bool))\n",
    "plt.figure(figsize=(10, 6))\n",
    "sns.heatmap(corr, mask=mask, cmap='coolwarm', annot=True, fmt=\".2f\")\n",
    "plt.title('Correlation matrix of the numerical columns')"
   ]
  },
  {
   "cell_type": "code",
   "execution_count": null,
   "id": "55c15b91",
   "metadata": {},
   "outputs": [],
   "source": [
    "#Plot the proportion of people earning less than 17K relative to their age group\n",
    "\n",
    "#We first need to create the age groups\n",
    "\n",
    "base['AGE'].describe()\n",
    "\n",
    "base['AGE_GROUP'] = pd.cut(base['AGE'], bins=[0, 25, 35, 45, 55, 100], labels=['0-25', '25-35', '35-45', '45-55', '55+'])\n",
    "#And count the number of people in each group that earn less than 17K\n",
    "age_group_counts = base[base['WAGE'] <= 17000]['AGE_GROUP'].value_counts().sort_index()\n",
    "age_group_counts"
   ]
  },
  {
   "cell_type": "code",
   "execution_count": null,
   "id": "b4c483bf",
   "metadata": {},
   "outputs": [],
   "source": [
    "# Group the data by AGE_GROUP and CPFD, and calculate the proportions\n",
    "age_cpfd_counts = base[base['WAGE'] <= 17000].groupby(['AGE_GROUP', 'CPFD']).size().unstack(fill_value=0)\n",
    "age_cpfd_proportions = age_cpfd_counts.div(age_cpfd_counts.sum(axis=1), axis=0)\n",
    "\n",
    "# Plot the stacked bar plot\n",
    "age_cpfd_proportions.plot(kind='barh', stacked=True, figsize=(10, 6), colormap='tab10', alpha=0.8)\n",
    "\n",
    "# Add labels and title\n",
    "plt.title('Proportion of CPFD values for people earning less than 17K by age group')\n",
    "plt.xlabel('Proportion')\n",
    "plt.ylabel('Age group')\n",
    "plt.legend(title='CPFD', bbox_to_anchor=(1.05, 1), loc='upper left')\n",
    "plt.tight_layout()\n",
    "plt.show()"
   ]
  },
  {
   "cell_type": "code",
   "execution_count": null,
   "id": "1556296d",
   "metadata": {},
   "outputs": [],
   "source": [
    "# Group the data by AGE_GROUP and CPFD, and calculate the proportions\n",
    "age_cpfd_counts = base[base['WAGE'] <= 17000].groupby(['SEXE', 'CPFD']).size().unstack(fill_value=0)\n",
    "age_cpfd_proportions = age_cpfd_counts.div(age_cpfd_counts.sum(axis=1), axis=0)\n",
    "\n",
    "# Plot the stacked bar plot\n",
    "age_cpfd_proportions.plot(kind='barh', stacked=True, figsize=(10, 6), colormap='tab10', alpha=0.8)\n",
    "\n",
    "# Add labels and title\n",
    "plt.title('Proportion of CPFD values for people earning less than 17K by age group')\n",
    "plt.xlabel('Proportion')\n",
    "plt.ylabel('SEXE')\n",
    "plt.legend(title='CPFD', bbox_to_anchor=(1.05, 1), loc='upper left')\n",
    "plt.tight_layout()\n",
    "plt.show()"
   ]
  },
  {
   "cell_type": "code",
   "execution_count": null,
   "id": "fea2a4bc-72d0-40b1-bbbb-8a3c2cb5714a",
   "metadata": {},
   "outputs": [],
   "source": [
    "fig, ax = plt.subplots()\n",
    "ax.hist(base['DATDEB'], bins=100, cumulative=False)\n",
    "ax.set_xlabel('Date of start of revenue with respect to the 01/01')\n",
    "ax.set_ylabel('Frequency')\n",
    "plt.show()"
   ]
  },
  {
   "cell_type": "code",
   "execution_count": null,
   "id": "e9a3cc19-dd48-401f-9cad-53dc8a4f768e",
   "metadata": {},
   "outputs": [],
   "source": [
    "fig, ax = plt.subplots()\n",
    "ax.hist(base['DATFIN'], bins=100, cumulative=False)\n",
    "ax.set_xlabel('Date of end of revenue with respect to the 01/01')\n",
    "ax.set_ylabel('Frequency')\n",
    "plt.show()"
   ]
  },
  {
   "cell_type": "code",
   "execution_count": null,
   "id": "0f3a2194-4c67-4e06-acdc-04dd63a08ca5",
   "metadata": {},
   "outputs": [],
   "source": [
    "fig, ax = plt.subplots()\n",
    "ax.hist(base['DATFIN'], bins=100, cumulative=False, log=True)\n",
    "ax.set_xlabel('Date of end of revenue with respect to the 01/01')\n",
    "ax.set_ylabel('Frequency')\n",
    "plt.show()"
   ]
  },
  {
   "cell_type": "code",
   "execution_count": null,
   "id": "230e5940-fc8c-45c1-a974-bc0031d97fd8",
   "metadata": {},
   "outputs": [],
   "source": [
    "fig, ax = plt.subplots()\n",
    "ax.hist(base['TRNNETO'], bins=100, cumulative=False)\n",
    "ax.set_xlabel('Date of start of revenue with respect to the 01/01')\n",
    "ax.set_ylabel('Frequency')\n",
    "plt.show()"
   ]
  },
  {
   "cell_type": "code",
   "execution_count": null,
   "id": "8bc70fab-e3a8-4318-b0d3-0033d0cf21f0",
   "metadata": {},
   "outputs": [],
   "source": [
    "base['SEXE'].value_counts()"
   ]
  },
  {
   "cell_type": "code",
   "execution_count": null,
   "id": "c95d74a0-363f-4d2b-b92e-db63545b5a9f",
   "metadata": {},
   "outputs": [],
   "source": [
    "fig, ax = plt.subplots()\n",
    "ax.hist(base['AGE'], bins=100, cumulative=False)\n",
    "ax.set_xlabel('Age')\n",
    "ax.set_ylabel('Frequency')\n",
    "plt.show()"
   ]
  },
  {
   "cell_type": "code",
   "execution_count": null,
   "id": "f6c9e9f8-8f42-42ae-9e04-719a87b9ea92",
   "metadata": {},
   "outputs": [],
   "source": [
    "categories = base['AGE_TR'].value_counts().index\n",
    "counts = base['AGE_TR'].value_counts().values\n",
    "fig, ax = plt.subplots()\n",
    "ax.bar(categories, counts, width=0.5)\n",
    "ax.set_xlabel(\"Age par tranche\")\n",
    "ax.set_ylabel('Frequency')\n",
    "plt.show()"
   ]
  },
  {
   "cell_type": "code",
   "execution_count": null,
   "id": "7bd8f3fe-eb89-41e6-b0d2-ccfd74c86625",
   "metadata": {},
   "outputs": [],
   "source": [
    "fig, ax = plt.subplots()\n",
    "ax.hist(base['CS'], bins=100, cumulative=False)\n",
    "ax.set_xlabel('CSP simplifié')\n",
    "ax.set_ylabel('Frequency')\n",
    "plt.show()"
   ]
  },
  {
   "cell_type": "code",
   "execution_count": null,
   "id": "03237a3f-3ebd-4ed4-8649-c58019892190",
   "metadata": {},
   "outputs": [],
   "source": [
    "categories = base['CS_N'].value_counts().index\n",
    "counts = base['CS_N'].value_counts().values\n",
    "fig, ax = plt.subplots()\n",
    "ax.barh(categories, counts)\n",
    "ax.set_xlabel(\"Catégorie Socio-Professionnelle\")\n",
    "ax.set_ylabel('Frequency')\n",
    "plt.show()"
   ]
  },
  {
   "cell_type": "code",
   "execution_count": null,
   "id": "a3731ae2-b7cb-4cb8-952a-9dec09cc8346",
   "metadata": {},
   "outputs": [],
   "source": [
    "categories = base['CONT_TRAV'].value_counts().index\n",
    "counts = base['CONT_TRAV'].value_counts().values\n",
    "fig, ax = plt.subplots()\n",
    "ax.bar(categories, counts, width=0.5)\n",
    "ax.set_xlabel('Contrat de travail')\n",
    "ax.set_ylabel('Frequency')\n",
    "plt.show()"
   ]
  },
  {
   "cell_type": "code",
   "execution_count": null,
   "id": "a0a258fe-f5c3-487b-ba08-80f0529e5986",
   "metadata": {},
   "outputs": [],
   "source": [
    "categories = base['DOMEMPL_EM_N'].value_counts().index\n",
    "counts = base['DOMEMPL_EM_N'].value_counts().values\n",
    "fig, ax = plt.subplots()\n",
    "ax.barh(categories, counts)\n",
    "ax.set_xlabel(\"Domaine d'emploi\")\n",
    "ax.set_ylabel('Frequency')\n",
    "plt.show()"
   ]
  },
  {
   "cell_type": "code",
   "execution_count": null,
   "id": "e7c6d76c-3c8e-43ab-ae4e-720ebc7b401c",
   "metadata": {},
   "outputs": [],
   "source": [
    "categories = base['DOMEMPL'].value_counts().index\n",
    "counts = base['DOMEMPL'].value_counts().values\n",
    "fig, ax = plt.subplots()\n",
    "ax.bar(categories, counts, width=0.5)\n",
    "ax.set_xlabel(\"Domaine d'emploi\")\n",
    "ax.set_ylabel('Frequency')\n",
    "plt.show()"
   ]
  },
  {
   "cell_type": "code",
   "execution_count": null,
   "id": "99a86926-20de-41b3-ae97-6c4b0ccbf9e7",
   "metadata": {},
   "outputs": [],
   "source": [
    "fig, ax = plt.subplots()\n",
    "ax.hist(base['DUREE'], bins=100, cumulative=False)\n",
    "ax.set_xlabel('Durée de paie, en jours')\n",
    "ax.set_ylabel('Frequency')\n",
    "plt.show()"
   ]
  },
  {
   "cell_type": "code",
   "execution_count": null,
   "id": "a4ad4f27-bffb-445a-8760-d09c150f76a7",
   "metadata": {},
   "outputs": [],
   "source": [
    "fig, ax = plt.subplots()\n",
    "ax.hist(base['DUREE'], bins=100, cumulative=False, log=True)\n",
    "ax.set_xlabel('Durée de paie, en jours')\n",
    "ax.set_ylabel('Frequency')\n",
    "plt.show()"
   ]
  },
  {
   "cell_type": "code",
   "execution_count": null,
   "id": "18b99314-2a70-4d9f-b7fd-b5cf706ce427",
   "metadata": {},
   "outputs": [],
   "source": [
    "categories = base['REGT'].value_counts().index\n",
    "counts = base['REGT'].value_counts().values\n",
    "fig, ax = plt.subplots()\n",
    "ax.bar(categories, counts, width=0.5)\n",
    "ax.set_xlabel(\"Région de travail\")\n",
    "ax.set_ylabel('Frequency')\n",
    "plt.show()"
   ]
  },
  {
   "cell_type": "code",
   "execution_count": null,
   "id": "91b236e7-1fdc-40cd-aa78-416b90ad184a",
   "metadata": {},
   "outputs": [],
   "source": [
    "categories = base['REGT_N'].value_counts().index\n",
    "counts = base['REGT_N'].value_counts().values\n",
    "fig, ax = plt.subplots()\n",
    "ax.barh(categories, counts)\n",
    "ax.set_xlabel(\"Région de travail\")\n",
    "ax.set_ylabel('Frequency')\n",
    "plt.show()"
   ]
  },
  {
   "cell_type": "code",
   "execution_count": null,
   "id": "e6d7bf07-f52d-4012-bc64-04ac72f1decf",
   "metadata": {},
   "outputs": [],
   "source": [
    "categories = base['REGR'].value_counts().index\n",
    "counts = base['REGR'].value_counts().values\n",
    "fig, ax = plt.subplots()\n",
    "ax.bar(categories, counts, width=0.5)\n",
    "ax.set_xlabel(\"Région de résidence\")\n",
    "ax.set_ylabel('Frequency')\n",
    "plt.show()"
   ]
  },
  {
   "cell_type": "code",
   "execution_count": null,
   "id": "a8d96d78-558a-4831-87fb-868bc0339811",
   "metadata": {},
   "outputs": [],
   "source": [
    "categories = base['REGR_N'].value_counts().index\n",
    "counts = base['REGR_N'].value_counts().values\n",
    "fig, ax = plt.subplots()\n",
    "ax.barh(categories, counts)\n",
    "ax.set_xlabel(\"Région de résidence\")\n",
    "ax.set_ylabel('Frequency')\n",
    "plt.show()"
   ]
  },
  {
   "cell_type": "code",
   "execution_count": null,
   "id": "8cc68cc7-e065-459e-80aa-8af9a36103b8",
   "metadata": {},
   "outputs": [],
   "source": [
    "fig, ax = plt.subplots()\n",
    "ax.hist(base['NBHEUR'], bins=100, cumulative=False)\n",
    "ax.set_xlabel(\"Nombre d'heures salariées\")\n",
    "ax.set_ylabel('Frequency')\n",
    "plt.show()"
   ]
  },
  {
   "cell_type": "code",
   "execution_count": null,
   "id": "ec3e29d4-1023-4434-9942-bed59b7f6681",
   "metadata": {},
   "outputs": [],
   "source": [
    "fig, ax = plt.subplots()\n",
    "ax.hist(base['POND'], bins=100, cumulative=False)\n",
    "ax.set_xlabel(\"Nombre d'heures salariées\")\n",
    "ax.set_ylabel('Frequency')\n",
    "plt.show()"
   ]
  },
  {
   "cell_type": "code",
   "execution_count": null,
   "id": "35dce438-55e4-4ad5-b580-503afddc7074",
   "metadata": {},
   "outputs": [],
   "source": [
    "categories = base['DEPR_N'].value_counts().index\n",
    "counts = base['DEPR_N'].value_counts().values\n",
    "fig, ax = plt.subplots()\n",
    "ax.barh(categories, counts)\n",
    "ax.set_xlabel(\"Département de résidence\")\n",
    "ax.set_ylabel('Frequency')\n",
    "plt.show()"
   ]
  },
  {
   "cell_type": "code",
   "execution_count": null,
   "id": "6916d83e-0472-42be-a454-0aacaf194065",
   "metadata": {},
   "outputs": [],
   "source": [
    "fig, ax = plt.subplots()\n",
    "ax.hist(base['WAGE'], bins=100, cumulative=False)\n",
    "ax.set_xlabel(\"Salaire\")\n",
    "ax.set_ylabel('Frequency')\n",
    "plt.show()"
   ]
  },
  {
   "cell_type": "code",
   "execution_count": null,
   "id": "981fbe08-15d9-4159-b61e-614525e61457",
   "metadata": {},
   "outputs": [],
   "source": [
    "fig, ax = plt.subplots()\n",
    "ax.hist(base['UNEMP'], bins=100, cumulative=False)\n",
    "ax.set_xlabel(\"Chômage\")\n",
    "ax.set_ylabel('Frequency')\n",
    "plt.show()"
   ]
  },
  {
   "cell_type": "code",
   "execution_count": null,
   "id": "b851eaef-52cc-4d04-b998-03b56d0bbe94",
   "metadata": {},
   "outputs": [],
   "source": [
    "base['UNEMP'].value_counts()"
   ]
  },
  {
   "cell_type": "markdown",
   "id": "a3a79a2c-42db-4a4a-bd37-b5fa32249d91",
   "metadata": {},
   "source": [
    "## DAG : causal graph and choice of covariates"
   ]
  },
  {
   "cell_type": "code",
   "execution_count": null,
   "id": "9ecb028c-86b2-44ba-ba6a-b29b4d13c934",
   "metadata": {},
   "outputs": [],
   "source": [
    "import networkx as nx\n",
    "\n",
    "from pgmpy.base.DAG import DAG"
   ]
  },
  {
   "cell_type": "code",
   "execution_count": null,
   "id": "f44501c7-51e8-4871-886e-4d7d3cfb75d2",
   "metadata": {
    "scrolled": true
   },
   "outputs": [],
   "source": [
    "#!pip install pgmpy"
   ]
  },
  {
   "cell_type": "code",
   "execution_count": null,
   "id": "5dc6a243-3f02-4989-a850-bbfb1984d199",
   "metadata": {},
   "outputs": [],
   "source": [
    "digraph = nx.DiGraph(\n",
    "    [\n",
    "        (\"AGE\", \"WAGE\"),\n",
    "        (\"AGE\", \"SUBREGION\"),\n",
    "        (\"AGE\", \"WHOURS\"),\n",
    "        (\"AGE\", \"CSP\"),\n",
    "        (\"AGE\", \"CONTRACT\"),\n",
    "        (\"SEX\", \"WAGE\"),\n",
    "        (\"SEX\", \"WHOURS\"),\n",
    "        (\"SEX\", \"ACTIVITY 38\"),\n",
    "        (\"SEX\", \"CSP\"),\n",
    "        (\"SUBREGION\", \"WAGE\"),\n",
    "        (\"SUBREGION\", \"NB EMPLOYEES\"),\n",
    "        (\"CSP\", \"WAGE\"),\n",
    "        (\"CSP\", \"CONV COLL\"),\n",
    "        (\"CSP\", \"NB EMPLOYEES\"),\n",
    "        (\"CSP\", \"WHOURS\"),\n",
    "        (\"CONTRACT\", \"CSP\"),\n",
    "        (\"CONTRACT\", \"WHOURS\"),\n",
    "        (\"CONTRACT\", \"WAGE\"),\n",
    "        (\"ACTIVITY 38\", \"CSP\"),\n",
    "        (\"ACTIVITY 38\", \"WAGE\"),\n",
    "        (\"ACTIVITY 38\", \"WHOURS\"),\n",
    "        (\"ACTIVITY 38\", \"CONTRACT\"),\n",
    "        (\"CONV COLL\", \"WAGE\"),\n",
    "    ]\n",
    ")"
   ]
  },
  {
   "cell_type": "code",
   "execution_count": null,
   "id": "83086d40-66ac-4c3e-a3e8-56597a3ca6fb",
   "metadata": {},
   "outputs": [],
   "source": [
    "G = DAG(digraph)"
   ]
  },
  {
   "cell_type": "code",
   "execution_count": null,
   "id": "4a7511ff-2a63-4614-9f5f-5f5d572fd576",
   "metadata": {},
   "outputs": [],
   "source": [
    "nx.draw_planar(G, with_labels=True)\n",
    "plt.show()"
   ]
  },
  {
   "cell_type": "code",
   "execution_count": null,
   "id": "98786b27-a605-412f-996f-32e0d6608c31",
   "metadata": {
    "scrolled": true
   },
   "outputs": [],
   "source": [
    "nx.draw(G, with_labels=True)\n",
    "plt.draw()"
   ]
  },
  {
   "cell_type": "code",
   "execution_count": null,
   "id": "f7660c2a-3d57-4b78-9d90-b4508c4ecb72",
   "metadata": {},
   "outputs": [],
   "source": [
    "from pgmpy.utils import get_example_model\n",
    "model = get_example_model(\"sachs\")\n",
    "\n",
    "# Plot the model\n",
    "nx.draw(model)\n",
    "plt.draw()"
   ]
  },
  {
   "cell_type": "code",
   "execution_count": null,
   "id": "543aa293-5a3e-4c4c-9086-e1507c0a5fc7",
   "metadata": {},
   "outputs": [],
   "source": [
    "#!pip install 'daft-pgm'"
   ]
  },
  {
   "cell_type": "code",
   "execution_count": null,
   "id": "18ac5428-b167-4e0c-9466-4ccbeb990209",
   "metadata": {},
   "outputs": [],
   "source": [
    "from daft import PGM"
   ]
  },
  {
   "cell_type": "code",
   "execution_count": null,
   "id": "d466c626-e9f8-4462-92ba-4c90e1851396",
   "metadata": {},
   "outputs": [],
   "source": [
    "# Get a daft object.\n",
    "model_daft = G.to_daft()\n",
    "# To open the plot\n",
    "model_daft.render()\n",
    "# Save the plot\n",
    "model_daft.savefig('sachs.png')\n",
    "\n"
   ]
  },
  {
   "cell_type": "code",
   "execution_count": null,
   "id": "de6ff474-e76a-4178-aa38-aefe45af8ecb",
   "metadata": {},
   "outputs": [],
   "source": [
    "model_graphviz = G.to_graphviz()\n",
    "\n",
    "# Plot the model.\n",
    "model_graphviz.draw(\"sachs.png\", prog=\"dot\")"
   ]
  },
  {
   "cell_type": "code",
   "execution_count": null,
   "id": "c3fb15bc-8dfd-447e-8d78-64fa6bb91d03",
   "metadata": {},
   "outputs": [],
   "source": [
    "!pip install pygraphviz"
   ]
  }
 ],
 "metadata": {
  "kernelspec": {
   "display_name": "Python 3 (ipykernel)",
   "language": "python",
   "name": "python3"
  },
  "language_info": {
   "codemirror_mode": {
    "name": "ipython",
    "version": 3
   },
   "file_extension": ".py",
   "mimetype": "text/x-python",
   "name": "python",
   "nbconvert_exporter": "python",
   "pygments_lexer": "ipython3",
   "version": "3.12.9"
  }
 },
 "nbformat": 4,
 "nbformat_minor": 5
}
