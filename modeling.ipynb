{
 "cells": [
  {
   "cell_type": "markdown",
   "id": "b422a97f-bf69-425b-8134-019b8d4b1ac7",
   "metadata": {},
   "source": [
    "## Causal estimation\n",
    "\n",
    "This notebook provides an attempt at causal estimation of the role of gender in wage inequalities. \n",
    "As a reminder, this dataset  - `Description des emplois salariés en 2021` is taken from the `Insee` website at the following link : <https://www.insee.fr/fr/statistiques/7651654#dictionnaire>.\n",
    "We aim to study the effect of gender on the level of wages, depending on several variables."
   ]
  },
  {
   "cell_type": "code",
   "execution_count": null,
   "id": "89d366a7-0c2e-4b55-98bd-ca8084a10c57",
   "metadata": {},
   "outputs": [],
   "source": [
    "import numpy as np\n",
    "import pandas as pd\n",
    "import geopandas as gpd\n",
    "from shapely.geometry import MultiPolygon\n",
    "from tqdm import tqdm\n",
    "import gdown\n",
    "import matplotlib.pyplot as plt\n",
    "from plotly.offline import init_notebook_mode\n",
    "init_notebook_mode(connected= True)\n",
    "import plotly.express as px\n",
    "import seaborn as sns\n",
    "import scipy as sp"
   ]
  },
  {
   "cell_type": "markdown",
   "id": "355189b7-9be9-4aa1-ae19-f3381caad50c",
   "metadata": {},
   "source": [
    "`Warning` : This code should be run after the [import and formating notebook](test_import_données.ipynb)."
   ]
  },
  {
   "cell_type": "code",
   "execution_count": null,
   "id": "39beaa98-0e30-415e-ae8a-1cd2a6178f3e",
   "metadata": {},
   "outputs": [],
   "source": [
    "base = pd.read_csv(\"INSEE_DATA_TREATED.csv\")"
   ]
  },
  {
   "cell_type": "code",
   "execution_count": null,
   "id": "67a431d4-4539-455e-be68-53677250f97d",
   "metadata": {},
   "outputs": [],
   "source": [
    "base.columns"
   ]
  },
  {
   "cell_type": "code",
   "execution_count": null,
   "id": "3bd6ed11-fa4a-4f19-9d9d-46af8a157de6",
   "metadata": {},
   "outputs": [],
   "source": [
    "target = ['WAGE']\n",
    "numerical_columns = [\n",
    "    #'DATDEB', 'DATFIN', #date début et fin de rémunération par rapport au 01/01\n",
    "     'AGE', #age en années\n",
    "    'DUREE', #durée de paie en jours\n",
    "      'NBHEUR', 'NBHEUR_TOT', #nombre d'heures salariées total (quelle diff?)\n",
    "    #'WAGE', #transformation of TRNNETO\n",
    "    #'UNEMP' #transformation of TRALCHT\n",
    "]\n",
    "\n",
    "categorical_columns = [\n",
    "    #'A6', 'A17', 'A38' #activité en nomenclature agrégrée\n",
    "    'CPFD', #temps complet ou partiel\n",
    "    #DEPR', 'DEPT', #département résidence et travail\n",
    "    #'DOMEMPL', 'DOMEMPL_EM', #domaine de l'emploi et l'établissement d'affectation/employeur\n",
    "    \n",
    "    'FILT', #indic poste annexe 2 ou non-annexe 1 (seuils rémunération volume)\n",
    "    #'REGR', 'REGT', #région de résidence et de travail\n",
    "    'SEXE', #1 homme 2 femme\n",
    "    'PCS', #PCS-ESE\n",
    "    'TYP_EMPLOI', #ordinaire, apprenti, autre\n",
    "    #'CONV_COLL', #convention collective\n",
    "  \n",
    "    #'TRNNETO', #rémunération nette globale en tranches -> à passer en numérique ?\n",
    "    'TRALCHT', #total des indémnités de chômage, en tranches -> passage en numérique ?\n",
    "    'TREFF', #tranche d'effectif : de 0 à 250+ postes\n",
    "    'CONT_TRAV', #contrat de travail : APP apprentissage, TOA occasionnel ou à l'acte, TTP intérim, AUTre\n",
    "    'CS', #CSP mais code plus simple \n",
    "    'AGE_TR', #age en tranches quadriennales\n",
    "    'DATDEB_TR',\n",
    "       'DATFIN_TR', #dates début et fin rémunération en tranches\n",
    "    #'DUREE_TR', #durée de paie exprimée en jours en tranches mensuelles\n",
    "    'DOMEMPL_EM_N', 'DOMEMPL_N', 'REGR_N',\n",
    "       'REGT_N', 'CS_N', 'DEPR_N', 'DEPT_N','A38_N' #les variables renommées avec les labels correspondants aux codes\n",
    "]\n",
    "\n",
    "all_columns = numerical_columns + categorical_columns"
   ]
  },
  {
   "cell_type": "markdown",
   "id": "c392df65-0535-43d0-b331-199241adcf18",
   "metadata": {},
   "source": [
    "## First method: a penalized linear model \n",
    "\n",
    "This step is useful to get a first broad idea of which covariates are important to predict wages."
   ]
  },
  {
   "cell_type": "code",
   "execution_count": null,
   "id": "99cef95b-74d0-4cf7-80a9-4a18d861069b",
   "metadata": {},
   "outputs": [],
   "source": [
    "from sklearn.compose import make_column_transformer\n",
    "from sklearn.preprocessing import OneHotEncoder, StandardScaler\n",
    "from sklearn.compose import TransformedTargetRegressor\n",
    "from sklearn.linear_model import Ridge\n",
    "from sklearn.pipeline import make_pipeline\n",
    "from sklearn.model_selection import train_test_split\n",
    "from sklearn.impute import SimpleImputer\n",
    "from sklearn.metrics import PredictionErrorDisplay, median_absolute_error"
   ]
  },
  {
   "cell_type": "markdown",
   "id": "7ad9958e-c5f3-48d0-8de0-52d93587bcfe",
   "metadata": {},
   "source": [
    "First, we split the sample into a train and a test dataset. \n",
    "Only the train dataset will be used to fit the model."
   ]
  },
  {
   "cell_type": "code",
   "execution_count": null,
   "id": "71eb503a-9032-4d2a-8d62-5a357cfd3d54",
   "metadata": {},
   "outputs": [],
   "source": [
    "X = base[all_columns]\n",
    "X.describe(include=\"all\")"
   ]
  },
  {
   "cell_type": "markdown",
   "id": "acebc51a-9233-48be-a94f-0458d0178ff2",
   "metadata": {},
   "source": [
    "We modify the target variable (wage) by replacing the 0s with 1s that can be handled when transformed by a log, this allows us to avoid infinity values."
   ]
  },
  {
   "cell_type": "code",
   "execution_count": null,
   "id": "11df94c9-fd55-4f5c-861c-8f66e3a2d74b",
   "metadata": {},
   "outputs": [],
   "source": [
    "base['TARGET'] = base[target]\n",
    "base.loc[base['TARGET'] == 0, 'TARGET'] = 1\n",
    "y = base['TARGET']\n",
    "y.value_counts()"
   ]
  },
  {
   "cell_type": "code",
   "execution_count": null,
   "id": "050e3e5d-57af-4116-aeac-9a75183a1a2c",
   "metadata": {},
   "outputs": [],
   "source": [
    "X_train, X_test, y_train, y_test = train_test_split(X, y, random_state=42)"
   ]
  },
  {
   "cell_type": "markdown",
   "id": "d72f983c-9e9b-4ec1-b248-b74ecfa73813",
   "metadata": {},
   "source": [
    "The datasat contains categorical variables that cannot be included in a linear model if they are not coded as integers first. In addition, to avoid categorical features to be treated as ordered values, we need to one-hot-encode them.\n",
    "\n",
    "We will do that with a pre-processor that:\n",
    "- one-hot-encode the categorical columns\n",
    "- rescale numerical columns."
   ]
  },
  {
   "cell_type": "code",
   "execution_count": null,
   "id": "97895505-09c4-40a4-86df-1c13da2be7ac",
   "metadata": {},
   "outputs": [],
   "source": [
    "#preprocessor = make_column_transformer(\n",
    " #   (OneHotEncoder(drop=\"if_binary\"), categorical_columns),\n",
    " #   (StandardScaler(), numerical_columns),\n",
    "#)"
   ]
  },
  {
   "cell_type": "markdown",
   "id": "ff69e3d7-c5e0-488d-867b-19c82cbaacce",
   "metadata": {},
   "source": [
    "We modify the preprocessing step to handle missing values.\n",
    "We could have also dropped all rows with missing information."
   ]
  },
  {
   "cell_type": "code",
   "execution_count": null,
   "id": "b84b0c69-947f-4b7e-9425-cef6fb7b7fa5",
   "metadata": {},
   "outputs": [],
   "source": [
    "preprocessor = make_column_transformer(\n",
    "    # For categorical columns: impute missing values with the most frequent value and apply OneHotEncoding\n",
    "    (make_pipeline(SimpleImputer(strategy='most_frequent'), OneHotEncoder(drop=\"if_binary\")), categorical_columns),\n",
    "    \n",
    "    # For numerical columns: impute missing values with the median and apply StandardScaler\n",
    "    (make_pipeline(SimpleImputer(strategy='median'), StandardScaler()), numerical_columns)\n",
    ")"
   ]
  },
  {
   "cell_type": "code",
   "execution_count": null,
   "id": "76eeb52d-e249-4ca4-9d8f-8f236ba6e9d0",
   "metadata": {},
   "outputs": [],
   "source": [
    "model = make_pipeline(\n",
    "    preprocessor,\n",
    "    TransformedTargetRegressor(\n",
    "        regressor=Ridge(alpha=1e-10), func=np.log10, inverse_func=sp.special.exp10\n",
    "    ),\n",
    ")"
   ]
  },
  {
   "cell_type": "code",
   "execution_count": null,
   "id": "76957b69-42b6-4213-a67d-4ff4474a2995",
   "metadata": {},
   "outputs": [],
   "source": [
    "model.fit(X_train, y_train)"
   ]
  },
  {
   "cell_type": "markdown",
   "id": "4407396e-1242-4395-9ee6-1ff47339f0a7",
   "metadata": {},
   "source": [
    "We check the performance of the model by checking its predictions on the test set with the median absolute error."
   ]
  },
  {
   "cell_type": "code",
   "execution_count": null,
   "id": "f631c4db-8b46-4dc6-9cc3-0f93a8158263",
   "metadata": {},
   "outputs": [],
   "source": [
    "mae_train = median_absolute_error(y_train, model.predict(X_train))\n",
    "y_pred = model.predict(X_test)\n",
    "mae_test = median_absolute_error(y_test, y_pred)\n",
    "scores = {\n",
    "    \"MedAE on training set\": f\"{mae_train:.2f} €/year\",\n",
    "    \"MedAE on testing set\": f\"{mae_test:.2f} €/year\",\n",
    "}"
   ]
  },
  {
   "cell_type": "code",
   "execution_count": null,
   "id": "2f641feb-7414-49d4-8937-273cdeec447d",
   "metadata": {},
   "outputs": [],
   "source": [
    "_, ax = plt.subplots(figsize=(5, 5))\n",
    "display = PredictionErrorDisplay.from_predictions(\n",
    "    y_test, y_pred, kind=\"actual_vs_predicted\", ax=ax, scatter_kwargs={\"alpha\": 0.5}\n",
    ")\n",
    "ax.set_title(\"Ridge model, small regularization\")\n",
    "for name, score in scores.items():\n",
    "    ax.plot([], [], \" \", label=f\"{name}: {score}\")\n",
    "ax.legend(loc=\"upper left\")\n",
    "plt.tight_layout()"
   ]
  },
  {
   "cell_type": "code",
   "execution_count": null,
   "id": "bdd628cc-fad3-4e53-bd56-7518ced428a4",
   "metadata": {},
   "outputs": [],
   "source": [
    "feature_names = model[:-1].get_feature_names_out()\n",
    "coefs = pd.DataFrame(\n",
    "    model[-1].regressor_.coef_,\n",
    "    columns=[\"Coefficients importance\"],\n",
    "    index=feature_names,\n",
    ")\n",
    "coefs.plot.barh(figsize=(9, 7))\n",
    "plt.title(\"Ridge model, small regularization, normalized variables\")\n",
    "plt.xlabel(\"Raw coefficient values\")\n",
    "plt.axvline(x=0, color=\".5\")\n",
    "plt.subplots_adjust(left=0.3)"
   ]
  },
  {
   "cell_type": "code",
   "execution_count": null,
   "id": "0783e692-84d6-40eb-aed3-3d7579b29e68",
   "metadata": {},
   "outputs": [],
   "source": [
    "coefs_005=coefs[coefs[\"Coefficients importance\"]>0.05]"
   ]
  },
  {
   "cell_type": "code",
   "execution_count": null,
   "id": "55d36fb2-4bcb-4204-b996-ab251e718a60",
   "metadata": {},
   "outputs": [],
   "source": [
    "coefs_005.plot.barh(figsize=(9, 7))\n",
    "plt.title(\"Ridge model, small regularization, normalized variables\")\n",
    "plt.xlabel(\"Raw coefficient values\")\n",
    "plt.axvline(x=0, color=\".5\")\n",
    "plt.subplots_adjust(left=0.3)"
   ]
  },
  {
   "cell_type": "code",
   "execution_count": null,
   "id": "7b4b6e8d-1462-4b14-8485-3e0bf5a61595",
   "metadata": {},
   "outputs": [],
   "source": [
    "coefs_minus005=coefs[coefs[\"Coefficients importance\"]<-0.05]\n",
    "\n",
    "coefs_minus005.plot.barh(figsize=(9, 7))\n",
    "plt.title(\"Ridge model, small regularization, normalized variables\")\n",
    "plt.xlabel(\"Raw coefficient values\")\n",
    "plt.axvline(x=0, color=\".5\")\n",
    "plt.subplots_adjust(left=0.3)"
   ]
  },
  {
   "cell_type": "code",
   "execution_count": null,
   "id": "772fea32-11d7-431b-bf70-97d0485f8116",
   "metadata": {},
   "outputs": [],
   "source": [
    "coefs"
   ]
  },
  {
   "cell_type": "code",
   "execution_count": null,
   "id": "94ba591e-97cb-43a6-b270-783baded3f2f",
   "metadata": {},
   "outputs": [],
   "source": [
    "plt.hist(model[1].regressor_.coef_,bins=model[1].regressor_.coef_.shape[0])"
   ]
  },
  {
   "cell_type": "markdown",
   "id": "3ffb41c1-d0c2-405c-b370-7bd0ab8a1433",
   "metadata": {},
   "source": [
    "## First model : less variables"
   ]
  },
  {
   "cell_type": "code",
   "execution_count": null,
   "id": "94fc0ece-67c1-4e51-85a3-9469cef96b70",
   "metadata": {},
   "outputs": [],
   "source": [
    "target = ['WAGE']\n",
    "numerical_columns = [\n",
    "    #'DATDEB', 'DATFIN', #date début et fin de rémunération par rapport au 01/01\n",
    "     'AGE', #age en années\n",
    "    'DUREE', #durée de paie en jours\n",
    "      #'NBHEUR', \n",
    "    'NBHEUR_TOT', #nombre d'heures salariées total (quelle diff?)\n",
    "    #'WAGE', #transformation of TRNNETO\n",
    "    #'UNEMP' #transformation of TRALCHT\n",
    "]\n",
    "\n",
    "categorical_columns = [\n",
    "    #'A6', 'A17', 'A38' #activité en nomenclature agrégrée\n",
    "    'CPFD', #temps complet ou partiel\n",
    "    #DEPR', 'DEPT', #département résidence et travail\n",
    "    #'DOMEMPL', 'DOMEMPL_EM', #domaine de l'emploi et l'établissement d'affectation/employeur\n",
    "    \n",
    "    'FILT', #indic poste annexe 2 ou non-annexe 1 (seuils rémunération volume)\n",
    "    #'REGR', 'REGT', #région de résidence et de travail\n",
    "    'SEXE', #1 homme 2 femme\n",
    "    #'PCS', #PCS-ESE\n",
    "    'TYP_EMPLOI', #ordinaire, apprenti, autre\n",
    "    #'CONV_COLL', #convention collective\n",
    "  \n",
    "    #'TRNNETO', #rémunération nette globale en tranches -> à passer en numérique ?\n",
    "    'TRALCHT', #total des indémnités de chômage, en tranches -> passage en numérique ?\n",
    "    'TREFF', #tranche d'effectif : de 0 à 250+ postes\n",
    "    'CONT_TRAV', #contrat de travail : APP apprentissage, TOA occasionnel ou à l'acte, TTP intérim, AUTre\n",
    "    'CS', #CSP mais code plus simple \n",
    "    'AGE_TR', #age en tranches quadriennales\n",
    "    'DATDEB_TR',\n",
    "       'DATFIN_TR', #dates début et fin rémunération en tranches\n",
    "    #'DUREE_TR', #durée de paie exprimée en jours en tranches mensuelles\n",
    "    'DOMEMPL_EM_N', 'DOMEMPL_N', 'REGR_N',\n",
    "       'REGT_N', 'CS_N', \n",
    "    #'DEPR_N', 'DEPT_N','A38_N' #les variables renommées avec les labels correspondants aux codes\n",
    "]\n",
    "\n",
    "all_columns = numerical_columns + categorical_columns"
   ]
  },
  {
   "cell_type": "code",
   "execution_count": null,
   "id": "17e656b8-12f1-4410-b953-fcae255980eb",
   "metadata": {},
   "outputs": [],
   "source": [
    "X = base[all_columns]\n",
    "X.describe(include=\"all\")\n",
    "base['TARGET'] = base[target]\n",
    "base.loc[base['TARGET'] == 0, 'TARGET'] = 1\n",
    "y = base['TARGET']\n",
    "y.value_counts()"
   ]
  },
  {
   "cell_type": "code",
   "execution_count": null,
   "id": "5d8d645c-a0c0-452c-a1d4-2a20a13c96ae",
   "metadata": {},
   "outputs": [],
   "source": [
    "X_train, X_test, y_train, y_test = train_test_split(X, y, random_state=42)"
   ]
  },
  {
   "cell_type": "markdown",
   "id": "2e83bca7-7ea2-4b95-8b2c-5fddb5f0455a",
   "metadata": {},
   "source": [
    "We use the same model :"
   ]
  },
  {
   "cell_type": "code",
   "execution_count": null,
   "id": "5d088859-34b0-406c-8d50-92ea46d0eac3",
   "metadata": {},
   "outputs": [],
   "source": [
    "preprocessor = make_column_transformer(\n",
    "    # For categorical columns: impute missing values with the most frequent value and apply OneHotEncoding\n",
    "    (make_pipeline(SimpleImputer(strategy='most_frequent'), OneHotEncoder(drop=\"if_binary\")), categorical_columns),\n",
    "    \n",
    "    # For numerical columns: impute missing values with the median and apply StandardScaler\n",
    "    (make_pipeline(SimpleImputer(strategy='median'), StandardScaler()), numerical_columns)\n",
    ")"
   ]
  },
  {
   "cell_type": "code",
   "execution_count": null,
   "id": "fe7481f9-071c-4f3e-bfa4-b32a073f1470",
   "metadata": {},
   "outputs": [],
   "source": [
    "model = make_pipeline(\n",
    "    preprocessor,\n",
    "    TransformedTargetRegressor(\n",
    "        regressor=Ridge(alpha=1e-10), func=np.log10, inverse_func=sp.special.exp10\n",
    "    ),\n",
    ")"
   ]
  },
  {
   "cell_type": "code",
   "execution_count": null,
   "id": "b06f0cc9-758b-4a52-9859-dca7a1c45c14",
   "metadata": {},
   "outputs": [],
   "source": [
    "model.fit(X_train, y_train)"
   ]
  },
  {
   "cell_type": "code",
   "execution_count": null,
   "id": "c95dca5a-c355-474e-8d6f-3a0ffa302b44",
   "metadata": {},
   "outputs": [],
   "source": [
    "feature_names = model[:-1].get_feature_names_out()\n",
    "coefs = pd.DataFrame(\n",
    "    model[-1].regressor_.coef_,\n",
    "    columns=[\"Coefficients importance\"],\n",
    "    index=feature_names,\n",
    ")\n",
    "coefs.plot.barh(figsize=(9, 7))\n",
    "plt.title(\"Ridge model, small regularization, normalized variables\")\n",
    "plt.xlabel(\"Raw coefficient values\")\n",
    "plt.axvline(x=0, color=\".5\")\n",
    "plt.subplots_adjust(left=0.3)"
   ]
  },
  {
   "cell_type": "markdown",
   "id": "fb264a30-d183-49ed-b3a2-b6657e5544d5",
   "metadata": {},
   "source": [
    "## Second model: Lasso"
   ]
  },
  {
   "cell_type": "code",
   "execution_count": null,
   "id": "a58ea0cd-b4f1-4bcd-b94b-afdba42d791a",
   "metadata": {},
   "outputs": [],
   "source": [
    "from sklearn.linear_model import LassoCV\n"
   ]
  },
  {
   "cell_type": "code",
   "execution_count": null,
   "id": "8feaaf8c-7db3-4f9b-8f74-5ea843c57013",
   "metadata": {},
   "outputs": [],
   "source": [
    "target = ['WAGE']\n",
    "numerical_columns = [\n",
    "    'DATDEB', 'DATFIN', #date début et fin de rémunération par rapport au 01/01\n",
    "     'AGE', #age en années\n",
    "    'DUREE', #durée de paie en jours\n",
    "      'NBHEUR', 'NBHEUR_TOT', #nombre d'heures salariées total (quelle diff?)\n",
    "    #'WAGE', #transformation of TRNNETO\n",
    "    #'UNEMP' #transformation of TRALCHT\n",
    "]\n",
    "\n",
    "categorical_columns = [\n",
    "    #'A6', 'A17', 'A38' #activité en nomenclature agrégrée\n",
    "    'CPFD', #temps complet ou partiel\n",
    "    #DEPR', 'DEPT', #département résidence et travail\n",
    "    #'DOMEMPL', 'DOMEMPL_EM', #domaine de l'emploi et l'établissement d'affectation/employeur\n",
    "    \n",
    "    'FILT', #indic poste annexe 2 ou non-annexe 1 (seuils rémunération volume)\n",
    "    #'REGR', 'REGT', #région de résidence et de travail\n",
    "    'SEXE', #1 homme 2 femme\n",
    "    'PCS', #PCS-ESE\n",
    "    'TYP_EMPLOI', #ordinaire, apprenti, autre\n",
    "    #'CONV_COLL', #convention collective\n",
    "  \n",
    "    #'TRNNETO', #rémunération nette globale en tranches -> à passer en numérique ?\n",
    "    'TRALCHT', #total des indémnités de chômage, en tranches -> passage en numérique ?\n",
    "    'TREFF', #tranche d'effectif : de 0 à 250+ postes\n",
    "    'CONT_TRAV', #contrat de travail : APP apprentissage, TOA occasionnel ou à l'acte, TTP intérim, AUTre\n",
    "    #'CS', #CSP mais code plus simple \n",
    "    'AGE_TR', #age en tranches quadriennales\n",
    "    #'DATDEB_TR','DATFIN_TR', #dates début et fin rémunération en tranches\n",
    "    #'DUREE_TR', #durée de paie exprimée en jours en tranches mensuelles\n",
    "    'DOMEMPL_EM_N', 'DOMEMPL_N', 'REGR_N',\n",
    "       'REGT_N', 'CS_N', 'DEPR_N', 'DEPT_N','A38_N' #les variables renommées avec les labels correspondants aux codes\n",
    "]\n",
    "\n",
    "all_columns = numerical_columns + categorical_columns"
   ]
  },
  {
   "cell_type": "code",
   "execution_count": null,
   "id": "ba1a5c04-46ea-4cdd-bb3b-9f70a8563485",
   "metadata": {},
   "outputs": [],
   "source": [
    "X = base[all_columns]\n",
    "X.describe(include=\"all\")\n",
    "base['TARGET'] = base[target]\n",
    "base.loc[base['TARGET'] == 0, 'TARGET'] = 1\n",
    "y = base['TARGET']\n",
    "y.value_counts()"
   ]
  },
  {
   "cell_type": "code",
   "execution_count": null,
   "id": "2b8a6ddc-5b83-441a-8ce1-ce0c4a054b74",
   "metadata": {},
   "outputs": [],
   "source": [
    "X_train, X_test, y_train, y_test = train_test_split(X, y, random_state=42)"
   ]
  },
  {
   "cell_type": "code",
   "execution_count": null,
   "id": "394b4e8d-a6bd-4d2a-be08-fba44433401a",
   "metadata": {},
   "outputs": [],
   "source": [
    "preprocessor = make_column_transformer(\n",
    "    # For categorical columns: impute missing values with the most frequent value and apply OneHotEncoding\n",
    "    (make_pipeline(SimpleImputer(strategy='most_frequent'), OneHotEncoder(drop=\"if_binary\")), categorical_columns),\n",
    "    \n",
    "    # For numerical columns: impute missing values with the median and apply StandardScaler\n",
    "    (make_pipeline(SimpleImputer(strategy='median'), StandardScaler()), numerical_columns)\n",
    ")"
   ]
  },
  {
   "cell_type": "markdown",
   "id": "83fea598-cdf2-4c69-82d4-3b031ff7a0d4",
   "metadata": {},
   "source": [
    "We fit a Lasso model with cross-validation to choose the alpha.\n",
    "\n",
    "# DOES NOT WORK: TOO LONG"
   ]
  },
  {
   "cell_type": "code",
   "execution_count": null,
   "id": "64840747-6025-48ab-a358-cbbd59fd3648",
   "metadata": {},
   "outputs": [],
   "source": [
    "\n",
    "alphas = np.logspace(-10, 10, 21)  # alpha values to be chosen from by cross-validation\n",
    "\n",
    "model = make_pipeline(\n",
    "    preprocessor,\n",
    "    TransformedTargetRegressor(\n",
    "        regressor=LassoCV(alphas=alphas, max_iter=100),\n",
    "        func=np.log10,\n",
    "        inverse_func=sp.special.exp10,\n",
    "    ),\n",
    ")\n",
    "\n",
    "_ = model.fit(X_train, y_train)"
   ]
  },
  {
   "cell_type": "code",
   "execution_count": null,
   "id": "7705f8fb-6c25-4a6f-9375-1d804a43834e",
   "metadata": {},
   "outputs": [],
   "source": [
    "# First we verify which value of :math:`\\alpha` has been selected.\n",
    "\n",
    "model[-1].regressor_.alpha_"
   ]
  }
 ],
 "metadata": {
  "kernelspec": {
   "display_name": "Python 3 (ipykernel)",
   "language": "python",
   "name": "python3"
  },
  "language_info": {
   "codemirror_mode": {
    "name": "ipython",
    "version": 3
   },
   "file_extension": ".py",
   "mimetype": "text/x-python",
   "name": "python",
   "nbconvert_exporter": "python",
   "pygments_lexer": "ipython3",
   "version": "3.12.9"
  }
 },
 "nbformat": 4,
 "nbformat_minor": 5
}
